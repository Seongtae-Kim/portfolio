{
 "cells": [
  {
   "cell_type": "markdown",
   "metadata": {},
   "source": [
    "# Practical math for Deep Learning\n",
    "# 딥러닝을 위한 수학\n",
    "Seongtae Kim, Computational Linguistics, Korea University"
   ]
  },
  {
   "cell_type": "markdown",
   "metadata": {},
   "source": [
    "# 텐서 생성하기(Creating Tensors)"
   ]
  },
  {
   "cell_type": "markdown",
   "metadata": {},
   "source": [
    "**발췌: 딥러닝에 목마른 사람들을 위한 Pytorch**<br>\n",
    "![Image](https://user-images.githubusercontent.com/21074282/59833505-25750100-9381-11e9-9f82-f1dcb68faa20.jpg)"
   ]
  },
  {
   "cell_type": "markdown",
   "metadata": {},
   "source": [
    "텐서를 생성하고 표시하는데 필요한 패키지들을 불러옵니다."
   ]
  },
  {
   "cell_type": "code",
   "execution_count": 1,
   "metadata": {
    "ExecuteTime": {
     "end_time": "2020-07-11T14:08:04.451929Z",
     "start_time": "2020-07-11T14:08:03.775552Z"
    }
   },
   "outputs": [],
   "source": [
    "# 필요한 패키지: Pytorch, numpy, matplotlib\n",
    "import torch \n",
    "import numpy as np\n",
    "import matplotlib.pyplot as plt"
   ]
  },
  {
   "cell_type": "markdown",
   "metadata": {},
   "source": [
    "텐서를 시각화하는 함수를 선언합니다."
   ]
  },
  {
   "cell_type": "code",
   "execution_count": 4,
   "metadata": {
    "ExecuteTime": {
     "end_time": "2020-07-11T14:08:54.331850Z",
     "start_time": "2020-07-11T14:08:54.324479Z"
    }
   },
   "outputs": [],
   "source": [
    "# Seongtae Kim 2020-01-20\n",
    "def tensor_draw(ten, title=\"\"): #3차원까지만 생성가능, 소수점의 경우 정수로 변환\n",
    "    if ten.type() == 'torch.FloatTensor': # float의 경우 정수로 변환\n",
    "        data = ten.int().numpy()\n",
    "    else:\n",
    "        data = ten.numpy()\n",
    "    if len(ten.size()) == 3:  # 3차원 텐서의 경우\n",
    "        for a in range(len(data)):\n",
    "            fig, ax = plt.subplots()\n",
    "            for (b, c), z in np.ndenumerate(data[a]):\n",
    "                ax.matshow(data[a])\n",
    "                ax.text(c, b, '{:d}'.format(z), ha='center', va='center', fontsize=15)\n",
    "            plt.title(title)\n",
    "            plt.axis(\"off\")\n",
    "            plt.show()   \n",
    "    elif len(ten.size()) <= 2: # 2차원의 경우\n",
    "        if len(ten.size()) == 0: # 스칼라일 경우\n",
    "            data = ten.int().unsqueeze(0).unsqueeze(0).numpy()\n",
    "        elif len(ten.size()) == 1: # 벡터의 경우\n",
    "            data = ten.int().unsqueeze(0).numpy()\n",
    "        fig, ax = plt.subplots()\n",
    "        for (a, b), z in np.ndenumerate(data):\n",
    "            ax.matshow(data)\n",
    "            ax.text(b, a, '{:d}'.format(z), ha='center', va='center', fontsize=15)\n",
    "        plt.title(title)\n",
    "        plt.axis(\"off\")\n",
    "        plt.show()\n",
    "        "
   ]
  },
  {
   "cell_type": "markdown",
   "metadata": {},
   "source": [
    "## 텐서 생성 기본"
   ]
  },
  {
   "cell_type": "code",
   "execution_count": 7,
   "metadata": {
    "ExecuteTime": {
     "end_time": "2020-07-11T14:09:18.059397Z",
     "start_time": "2020-07-11T14:09:17.973050Z"
    }
   },
   "outputs": [
    {
     "name": "stdout",
     "output_type": "stream",
     "text": [
      "tensor([[7., 3., 2.],\n",
      "        [8., 9., 1.]])\n"
     ]
    },
    {
     "data": {
      "image/png": "[encoded data removed]",
      "text/plain": [
       "<Figure size 432x288 with 1 Axes>"
      ]
     },
     "metadata": {
      "needs_background": "light"
     },
     "output_type": "display_data"
    }
   ],
   "source": [
    "#plt.grid(None)\n",
    "# 텐서 생성하기 기본\n",
    "tensor_1 = torch.Tensor([[7, 3, 2], [8, 9, 1]]) # 2차원 행렬\n",
    "print(tensor_1)\n",
    "tensor_draw(tensor_1)"
   ]
  },
  {
   "cell_type": "markdown",
   "metadata": {},
   "source": [
    "## 텐서 자동 생성"
   ]
  },
  {
   "cell_type": "code",
   "execution_count": 8,
   "metadata": {
    "ExecuteTime": {
     "end_time": "2020-07-11T14:09:19.728176Z",
     "start_time": "2020-07-11T14:09:19.578165Z"
    }
   },
   "outputs": [
    {
     "name": "stdout",
     "output_type": "stream",
     "text": [
      "tensor([[0.5174, 0.9688, 0.1389],\n",
      "        [0.8173, 0.4091, 0.6359]])\n",
      "tensor([[1, 1, 1, 2],\n",
      "        [6, 2, 6, 5],\n",
      "        [1, 7, 3, 7],\n",
      "        [8, 8, 1, 4]])\n"
     ]
    },
    {
     "data": {
      "image/png": "[encoded data removed]",
      "text/plain": [
       "<Figure size 432x288 with 1 Axes>"
      ]
     },
     "metadata": {
      "needs_background": "light"
     },
     "output_type": "display_data"
    }
   ],
   "source": [
    "# 의사난수로 텐서 생성\n",
    "tensor_3 = torch.rand(2, 3) # 2행 3열의 난수 텐서 생성\n",
    "print(tensor_3)\n",
    "\n",
    "# 최솟값 1, 최댓값 10, 4x4사이즈로 된 정수로 이루어진 의사 난수 텐서 생성\n",
    "tensor_4 = torch.randint(low=1, high=10, size=(4,4)) \n",
    "print(tensor_4)\n",
    "tensor_draw(tensor_4)"
   ]
  },
  {
   "cell_type": "markdown",
   "metadata": {},
   "source": [
    "# 텐서 조작&연산하기 (Manipulating & Operating Tensors)"
   ]
  },
  {
   "cell_type": "markdown",
   "metadata": {},
   "source": [
    "## 텐서 슬라이싱(Slicing a tensor)"
   ]
  },
  {
   "cell_type": "markdown",
   "metadata": {},
   "source": [
    "텐서 슬라이싱을 시각화하는 함수"
   ]
  },
  {
   "cell_type": "code",
   "execution_count": 9,
   "metadata": {
    "ExecuteTime": {
     "end_time": "2020-07-11T14:09:24.337404Z",
     "start_time": "2020-07-11T14:09:24.333288Z"
    }
   },
   "outputs": [],
   "source": [
    "# 교재에 있는 함수는 3차원 텐서 전용이기에 수정함\n",
    "import matplotlib.pyplot as plt\n",
    "def show_slice(slc):\n",
    "    if len(slc.size()) > 2: # 3차원 이상일 경우\n",
    "        fig, axes = plt.subplots(len(slc), 1)\n",
    "        for i in range(len(slc)):\n",
    "            axes[i].matshow(slc.numpy()[i], vmin=0, vmax=1, cmap='spring')\n",
    "    else: # 2차원일 경우\n",
    "        fig, axes = plt.subplots()\n",
    "        axes.matshow(slc.numpy(), vmin=0, vmax=1, cmap='summer')\n",
    "    plt.show()"
   ]
  },
  {
   "cell_type": "code",
   "execution_count": 10,
   "metadata": {
    "ExecuteTime": {
     "end_time": "2020-07-11T14:09:24.828243Z",
     "start_time": "2020-07-11T14:09:24.746229Z"
    }
   },
   "outputs": [
    {
     "data": {
      "image/png": "[encoded data removed]",
      "text/plain": [
       "<Figure size 432x288 with 1 Axes>"
      ]
     },
     "metadata": {
      "needs_background": "light"
     },
     "output_type": "display_data"
    }
   ],
   "source": [
    "# 4x3 사이즈의 텐서 만들기\n",
    "tensor_10 = torch.randint(low=0, high=9, size=(4, 3))\n",
    "slc = torch.ones_like(tensor_10)\n",
    "slc[0,1] = 0  # 1번째 행의 2번째 열을 선택\n",
    "show_slice(slc)"
   ]
  },
  {
   "cell_type": "code",
   "execution_count": 11,
   "metadata": {
    "ExecuteTime": {
     "end_time": "2020-07-11T14:09:25.360583Z",
     "start_time": "2020-07-11T14:09:25.290359Z"
    }
   },
   "outputs": [
    {
     "data": {
      "image/png": "[encoded data removed]",
      "text/plain": [
       "<Figure size 432x288 with 1 Axes>"
      ]
     },
     "metadata": {
      "needs_background": "light"
     },
     "output_type": "display_data"
    }
   ],
   "source": [
    "slc = torch.ones_like(tensor_10)\n",
    "slc[0,:] = 0  # 1번째 행 모두를 선택\n",
    "show_slice(slc)"
   ]
  },
  {
   "cell_type": "code",
   "execution_count": 12,
   "metadata": {
    "ExecuteTime": {
     "end_time": "2020-07-11T14:09:25.661649Z",
     "start_time": "2020-07-11T14:09:25.599258Z"
    }
   },
   "outputs": [
    {
     "data": {
      "image/png": "[encoded data removed]",
      "text/plain": [
       "<Figure size 432x288 with 1 Axes>"
      ]
     },
     "metadata": {
      "needs_background": "light"
     },
     "output_type": "display_data"
    }
   ],
   "source": [
    "slc = torch.ones_like(tensor_10)\n",
    "slc[2,1:] = 0  # 3번째 행의 2번째 열부터 끝까지 선택\n",
    "show_slice(slc)"
   ]
  },
  {
   "cell_type": "code",
   "execution_count": 13,
   "metadata": {
    "ExecuteTime": {
     "end_time": "2020-07-11T14:09:25.896717Z",
     "start_time": "2020-07-11T14:09:25.830272Z"
    }
   },
   "outputs": [
    {
     "data": {
      "image/png": "[encoded data removed]",
      "text/plain": [
       "<Figure size 432x288 with 1 Axes>"
      ]
     },
     "metadata": {
      "needs_background": "light"
     },
     "output_type": "display_data"
    }
   ],
   "source": [
    "slc = torch.ones_like(tensor_10)\n",
    "slc[1,1:2] = 0  # 2번째 행의 2번째 열만 선택\n",
    "show_slice(slc)"
   ]
  },
  {
   "cell_type": "markdown",
   "metadata": {},
   "source": [
    "## 텐서 View 연산"
   ]
  },
  {
   "cell_type": "code",
   "execution_count": 16,
   "metadata": {
    "ExecuteTime": {
     "end_time": "2020-07-11T14:09:55.670931Z",
     "start_time": "2020-07-11T14:09:55.334757Z"
    }
   },
   "outputs": [
    {
     "name": "stdout",
     "output_type": "stream",
     "text": [
      "view 연산을 수행하기 전: 5x4 사이즈\n"
     ]
    },
    {
     "data": {
      "image/png": "[encoded data removed]",
      "text/plain": [
       "<Figure size 432x288 with 1 Axes>"
      ]
     },
     "metadata": {
      "needs_background": "light"
     },
     "output_type": "display_data"
    },
    {
     "name": "stdout",
     "output_type": "stream",
     "text": [
      "view 연산을 수행한 후: 2x10 사이즈\n"
     ]
    },
    {
     "data": {
      "image/png": "[encoded data removed]",
      "text/plain": [
       "<Figure size 432x288 with 1 Axes>"
      ]
     },
     "metadata": {
      "needs_background": "light"
     },
     "output_type": "display_data"
    }
   ],
   "source": [
    "tensor_11 = torch.randint(low=0, high=9, size=(5,4))\n",
    "print(\"view 연산을 수행하기 전: 5x4 사이즈\")\n",
    "tensor_draw(tensor_11) # 5x4의 크기를 가짐\n",
    "print(\"view 연산을 수행한 후: 2x10 사이즈\") # 각 텐서의 요소가 이어붙여짐\n",
    "tensor_draw(tensor_11.view(2, -1))"
   ]
  },
  {
   "cell_type": "markdown",
   "metadata": {},
   "source": [
    "## 텐서 Transpose 연산"
   ]
  },
  {
   "cell_type": "code",
   "execution_count": 29,
   "metadata": {
    "ExecuteTime": {
     "end_time": "2020-07-07T13:55:31.916912Z",
     "start_time": "2020-07-07T13:55:31.602220Z"
    }
   },
   "outputs": [
    {
     "name": "stdout",
     "output_type": "stream",
     "text": [
      "전체 전치행렬 수행 전\n"
     ]
    },
    {
     "data": {
      "image/png": "[encoded data removed]",
      "text/plain": [
       "<Figure size 432x288 with 1 Axes>"
      ]
     },
     "metadata": {
      "needs_background": "light"
     },
     "output_type": "display_data"
    },
    {
     "name": "stdout",
     "output_type": "stream",
     "text": [
      "전체 전치행렬 수행 후\n"
     ]
    },
    {
     "data": {
      "image/png": "[encoded data removed]",
      "text/plain": [
       "<Figure size 432x288 with 1 Axes>"
      ]
     },
     "metadata": {
      "needs_background": "light"
     },
     "output_type": "display_data"
    }
   ],
   "source": [
    "tensor_12 = torch.randint(low=0, high=9, size=(3,7))\n",
    "print(\"전체 전치행렬 수행 전\")\n",
    "tensor_draw(tensor_12)\n",
    "print(\"전체 전치행렬 수행 후\")\n",
    "tensor_draw(tensor_12.t())"
   ]
  },
  {
   "cell_type": "markdown",
   "metadata": {},
   "source": [
    "## 텐서 Concatenation 연산"
   ]
  },
  {
   "cell_type": "code",
   "execution_count": 17,
   "metadata": {
    "ExecuteTime": {
     "end_time": "2020-07-11T14:10:24.907548Z",
     "start_time": "2020-07-11T14:10:24.194207Z"
    }
   },
   "outputs": [
    {
     "data": {
      "image/png": "[encoded data removed]",
      "text/plain": [
       "<Figure size 432x288 with 1 Axes>"
      ]
     },
     "metadata": {
      "needs_background": "light"
     },
     "output_type": "display_data"
    },
    {
     "data": {
      "image/png": "[encoded data removed]",
      "text/plain": [
       "<Figure size 432x288 with 1 Axes>"
      ]
     },
     "metadata": {
      "needs_background": "light"
     },
     "output_type": "display_data"
    },
    {
     "name": "stdout",
     "output_type": "stream",
     "text": [
      "첫번째 차원을 기준으로 tensor_13과 tensor_14를 이으면 (6x4)\n"
     ]
    },
    {
     "data": {
      "image/png": "[encoded data removed]",
      "text/plain": [
       "<Figure size 432x288 with 1 Axes>"
      ]
     },
     "metadata": {
      "needs_background": "light"
     },
     "output_type": "display_data"
    },
    {
     "name": "stdout",
     "output_type": "stream",
     "text": [
      "두번째 차원을 기준으로 tensor_18과 tensor_19를 이으면 (3x8)\n"
     ]
    },
    {
     "data": {
      "image/png": "[encoded data removed]",
      "text/plain": [
       "<Figure size 432x288 with 1 Axes>"
      ]
     },
     "metadata": {
      "needs_background": "light"
     },
     "output_type": "display_data"
    }
   ],
   "source": [
    "tensor_13 = torch.randint(low=0, high=9, size=(3,4))\n",
    "tensor_14 = torch.randint(low=0, high=9, size=(3,4))\n",
    "\n",
    "tensor_draw(tensor_13, \"tensor_13 (3x4)\")\n",
    "tensor_draw(tensor_14, \"tensor_14 (3x4)\")\n",
    "print(\"첫번째 차원을 기준으로 tensor_13과 tensor_14를 이으면 (6x4)\")\n",
    "tensor_draw(torch.cat([tensor_13, tensor_14], dim=0))\n",
    "print(\"두번째 차원을 기준으로 tensor_18과 tensor_19를 이으면 (3x8)\")\n",
    "tensor_draw(torch.cat([tensor_13, tensor_14], dim=1))\n"
   ]
  },
  {
   "cell_type": "markdown",
   "metadata": {},
   "source": [
    "## 텐서 Stack 연산"
   ]
  },
  {
   "cell_type": "code",
   "execution_count": 18,
   "metadata": {
    "ExecuteTime": {
     "end_time": "2020-07-11T14:11:03.278755Z",
     "start_time": "2020-07-11T14:11:02.542044Z"
    }
   },
   "outputs": [
    {
     "data": {
      "image/png": "[encoded data removed]",
      "text/plain": [
       "<Figure size 432x288 with 1 Axes>"
      ]
     },
     "metadata": {
      "needs_background": "light"
     },
     "output_type": "display_data"
    },
    {
     "data": {
      "image/png": "[encoded data removed]",
      "text/plain": [
       "<Figure size 432x288 with 1 Axes>"
      ]
     },
     "metadata": {
      "needs_background": "light"
     },
     "output_type": "display_data"
    },
    {
     "name": "stdout",
     "output_type": "stream",
     "text": [
      "첫번째 차원을 기준으로 tensor_13과 tensor_14를 stack하면 (1x3x4)\n"
     ]
    },
    {
     "data": {
      "image/png": "[encoded data removed]",
      "text/plain": [
       "<Figure size 432x288 with 1 Axes>"
      ]
     },
     "metadata": {
      "needs_background": "light"
     },
     "output_type": "display_data"
    },
    {
     "data": {
      "image/png": "[encoded data removed]",
      "text/plain": [
       "<Figure size 432x288 with 1 Axes>"
      ]
     },
     "metadata": {
      "needs_background": "light"
     },
     "output_type": "display_data"
    }
   ],
   "source": [
    "tensor_draw(tensor_13, \"tensor_13 (3x4)\")\n",
    "tensor_draw(tensor_14, \"tensor_14 (3x4)\")\n",
    "\n",
    "print(\"첫번째 차원을 기준으로 tensor_13과 tensor_14를 stack하면 (1x3x4)\")\n",
    "tensor_draw(torch.stack([tensor_13, tensor_14], dim=0))"
   ]
  },
  {
   "cell_type": "markdown",
   "metadata": {},
   "source": [
    "## 텐서간 연산(Operations between Tensors)"
   ]
  },
  {
   "cell_type": "markdown",
   "metadata": {},
   "source": [
    "### 텐서의 덧셈(Add between tensors)"
   ]
  },
  {
   "cell_type": "code",
   "execution_count": 20,
   "metadata": {
    "ExecuteTime": {
     "end_time": "2020-07-11T14:11:51.115417Z",
     "start_time": "2020-07-11T14:11:50.897651Z"
    }
   },
   "outputs": [
    {
     "data": {
      "image/png": "[encoded data removed]",
      "text/plain": [
       "<Figure size 432x288 with 1 Axes>"
      ]
     },
     "metadata": {
      "needs_background": "light"
     },
     "output_type": "display_data"
    },
    {
     "data": {
      "image/png": "[encoded data removed]",
      "text/plain": [
       "<Figure size 432x288 with 1 Axes>"
      ]
     },
     "metadata": {
      "needs_background": "light"
     },
     "output_type": "display_data"
    },
    {
     "data": {
      "image/png": "[encoded data removed]",
      "text/plain": [
       "<Figure size 432x288 with 1 Axes>"
      ]
     },
     "metadata": {
      "needs_background": "light"
     },
     "output_type": "display_data"
    },
    {
     "data": {
      "image/png": "[encoded data removed]",
      "text/plain": [
       "<Figure size 432x288 with 1 Axes>"
      ]
     },
     "metadata": {
      "needs_background": "light"
     },
     "output_type": "display_data"
    }
   ],
   "source": [
    "tensor_15 = torch.randint(low=1, high=9, size=(1,3))\n",
    "tensor_16 = torch.randint(low=1, high=9, size=(1,3))\n",
    "tensor_draw(tensor_15, \"tensor_15\")\n",
    "tensor_draw(tensor_16, \"tensor_16\")\n",
    "tensor_draw(torch.add(tensor_15, tensor_16), \"tensor_15 + tensor_16 = ?\")\n",
    "tensor_draw(tensor_15 + 3, \"tensor_15 + 3(scalar) = ?\")"
   ]
  },
  {
   "cell_type": "markdown",
   "metadata": {},
   "source": [
    "### 텐서의 원소단위 곱(Hadamard Product)"
   ]
  },
  {
   "cell_type": "code",
   "execution_count": 21,
   "metadata": {
    "ExecuteTime": {
     "end_time": "2020-07-11T14:12:25.523568Z",
     "start_time": "2020-07-11T14:12:25.358521Z"
    }
   },
   "outputs": [
    {
     "data": {
      "image/png": "[encoded data removed]",
      "text/plain": [
       "<Figure size 432x288 with 1 Axes>"
      ]
     },
     "metadata": {
      "needs_background": "light"
     },
     "output_type": "display_data"
    },
    {
     "data": {
      "image/png": "[encoded data removed]",
      "text/plain": [
       "<Figure size 432x288 with 1 Axes>"
      ]
     },
     "metadata": {
      "needs_background": "light"
     },
     "output_type": "display_data"
    },
    {
     "data": {
      "image/png": "[encoded data removed]",
      "text/plain": [
       "<Figure size 432x288 with 1 Axes>"
      ]
     },
     "metadata": {
      "needs_background": "light"
     },
     "output_type": "display_data"
    }
   ],
   "source": [
    "tensor_draw(tensor_15, \"tensor_15\")\n",
    "tensor_draw(tensor_16, \"tensor_16\")\n",
    "tensor_draw(tensor_15 * tensor_16, \"tensor_15 * tensor_16 = ? (Hadamard Product)\")"
   ]
  },
  {
   "cell_type": "markdown",
   "metadata": {},
   "source": [
    "### 텐서의 내적(Inner product)"
   ]
  },
  {
   "cell_type": "code",
   "execution_count": 22,
   "metadata": {
    "ExecuteTime": {
     "end_time": "2020-07-11T14:13:37.955787Z",
     "start_time": "2020-07-11T14:13:37.719575Z"
    }
   },
   "outputs": [
    {
     "data": {
      "image/png": "[encoded data removed]",
      "text/plain": [
       "<Figure size 432x288 with 1 Axes>"
      ]
     },
     "metadata": {
      "needs_background": "light"
     },
     "output_type": "display_data"
    },
    {
     "data": {
      "image/png": "[encoded data removed]",
      "text/plain": [
       "<Figure size 432x288 with 1 Axes>"
      ]
     },
     "metadata": {
      "needs_background": "light"
     },
     "output_type": "display_data"
    },
    {
     "data": {
      "image/png": "[encoded data removed]",
      "text/plain": [
       "<Figure size 432x288 with 1 Axes>"
      ]
     },
     "metadata": {
      "needs_background": "light"
     },
     "output_type": "display_data"
    },
    {
     "data": {
      "image/png": "[encoded data removed]",
      "text/plain": [
       "<Figure size 432x288 with 1 Axes>"
      ]
     },
     "metadata": {
      "needs_background": "light"
     },
     "output_type": "display_data"
    }
   ],
   "source": [
    "tensor_17 = torch.Tensor([3, 4, 2])\n",
    "tensor_18 = torch.Tensor([6, 1, 9])\n",
    "\n",
    "tensor_draw(tensor_17, \"tensor_17\")\n",
    "tensor_draw(tensor_18, \"tensor_18\")\n",
    "tensor_draw(tensor_17 * tensor_18, \"tensor_17 * tensor_18 = ? (Hadamard Product)\")\n",
    "tensor_draw(tensor_17.dot(tensor_18), \"Inner product between tensor_17 and tensor_18\")"
   ]
  },
  {
   "cell_type": "markdown",
   "metadata": {},
   "source": [
    "### 텐서간의 곱(Tensor Multiplication)"
   ]
  },
  {
   "cell_type": "markdown",
   "metadata": {},
   "source": [
    "![image](https://upload.wikimedia.org/wikipedia/commons/thumb/1/18/Matrix_multiplication_qtl1.svg/1920px-Matrix_multiplication_qtl1.svg.png)"
   ]
  },
  {
   "cell_type": "code",
   "execution_count": 23,
   "metadata": {
    "ExecuteTime": {
     "end_time": "2020-07-11T14:14:34.226417Z",
     "start_time": "2020-07-11T14:14:33.994204Z"
    }
   },
   "outputs": [
    {
     "data": {
      "image/png": "[encoded data removed]",
      "text/plain": [
       "<Figure size 432x288 with 1 Axes>"
      ]
     },
     "metadata": {
      "needs_background": "light"
     },
     "output_type": "display_data"
    },
    {
     "data": {
      "image/png": "[encoded data removed]",
      "text/plain": [
       "<Figure size 432x288 with 1 Axes>"
      ]
     },
     "metadata": {
      "needs_background": "light"
     },
     "output_type": "display_data"
    },
    {
     "data": {
      "image/png": "[encoded data removed]",
      "text/plain": [
       "<Figure size 432x288 with 1 Axes>"
      ]
     },
     "metadata": {
      "needs_background": "light"
     },
     "output_type": "display_data"
    }
   ],
   "source": [
    "tensor_19 = torch.randint(low=1, high=9, size=(3,2))\n",
    "tensor_20 = torch.randint(low=1, high=9, size=(2,2))\n",
    "\n",
    "tensor_draw(tensor_19, \"tensor_19\")\n",
    "tensor_draw(tensor_20, \"tensor_20\")\n",
    "tensor_draw(tensor_19.mm(tensor_20), \"tensor multiplication between tensor_19 and tensor_20\")"
   ]
  },
  {
   "cell_type": "markdown",
   "metadata": {},
   "source": [
    "### 텐서의 총합(Sum of Tensor elements)"
   ]
  },
  {
   "cell_type": "code",
   "execution_count": 24,
   "metadata": {
    "ExecuteTime": {
     "end_time": "2020-07-11T14:15:24.305427Z",
     "start_time": "2020-07-11T14:15:24.166226Z"
    },
    "scrolled": false
   },
   "outputs": [
    {
     "data": {
      "image/png": "[encoded data removed]",
      "text/plain": [
       "<Figure size 432x288 with 1 Axes>"
      ]
     },
     "metadata": {
      "needs_background": "light"
     },
     "output_type": "display_data"
    },
    {
     "data": {
      "image/png": "[encoded data removed]",
      "text/plain": [
       "<Figure size 432x288 with 1 Axes>"
      ]
     },
     "metadata": {
      "needs_background": "light"
     },
     "output_type": "display_data"
    }
   ],
   "source": [
    "tensor_21 = torch.randint(low=1, high=10, size=(2,3))\n",
    "\n",
    "tensor_draw(tensor_21, \"tensor_21\")\n",
    "tensor_draw(torch.sum(tensor_21), \"sum of all elements in tensor_21\")"
   ]
  },
  {
   "cell_type": "markdown",
   "metadata": {},
   "source": [
    "### 텐서의 최댓값/최솟값 (Max/ Min Value within a tensor)"
   ]
  },
  {
   "cell_type": "code",
   "execution_count": 25,
   "metadata": {
    "ExecuteTime": {
     "end_time": "2020-07-11T14:15:58.051775Z",
     "start_time": "2020-07-11T14:15:57.618713Z"
    }
   },
   "outputs": [
    {
     "data": {
      "image/png": "[encoded data removed]",
      "text/plain": [
       "<Figure size 432x288 with 1 Axes>"
      ]
     },
     "metadata": {
      "needs_background": "light"
     },
     "output_type": "display_data"
    },
    {
     "data": {
      "image/png": "[encoded data removed]",
      "text/plain": [
       "<Figure size 432x288 with 1 Axes>"
      ]
     },
     "metadata": {
      "needs_background": "light"
     },
     "output_type": "display_data"
    },
    {
     "data": {
      "image/png": "[encoded data removed]",
      "text/plain": [
       "<Figure size 432x288 with 1 Axes>"
      ]
     },
     "metadata": {
      "needs_background": "light"
     },
     "output_type": "display_data"
    }
   ],
   "source": [
    "tensor_22 = torch.randint(low=1, high=99, size=(3,7))\n",
    "\n",
    "tensor_draw(tensor_22, \"tensor_22\")\n",
    "tensor_draw(torch.max(tensor_22), \"max value in tensor_22\")\n",
    "tensor_draw(torch.min(tensor_22), \"min value in tensor_22\")"
   ]
  },
  {
   "cell_type": "markdown",
   "metadata": {},
   "source": [
    "----------"
   ]
  },
  {
   "cell_type": "markdown",
   "metadata": {},
   "source": [
    "# 나이브 베이즈 분류기(Naive Bayes Classifier)"
   ]
  },
  {
   "cell_type": "markdown",
   "metadata": {},
   "source": [
    "**키워드**<br>\n",
    "- 베이즈 정리<br>\n",
    "- 베이즈 정리 확률 모델<br>\n",
    "- 다항분포 나이브 베이즈<br>\n",
    "- TF-IDF<br>\n"
   ]
  },
  {
   "cell_type": "markdown",
   "metadata": {
    "ExecuteTime": {
     "end_time": "2020-07-09T09:50:01.707029Z",
     "start_time": "2020-07-09T09:50:01.592877Z"
    }
   },
   "source": [
    "![Image](https://www.elmhurst.edu/wp-content/uploads/2019/08/amazing-thomas-bayes-illustration.jpg)"
   ]
  },
  {
   "cell_type": "markdown",
   "metadata": {},
   "source": [
    "베이즈 확률론(Bayesian Probability)은 빈도(frequency)나 경향성(propensity)를 중심으로 시스템의 물리적인 속성으로만 생각하던 기존의 확률론에서 탈피해 확률을 \"지식 또는 믿음의 정도를 나타내는 양\"으로 해석하는 확률론이다. 이 분야의 선구자인 18세기 통계학자 토머스 베이즈(Thomas Bayses)의 이름을 따서 명명되었다."
   ]
  },
  {
   "cell_type": "markdown",
   "metadata": {},
   "source": [
    "---------"
   ]
  },
  {
   "cell_type": "markdown",
   "metadata": {},
   "source": [
    "### 베이안 확률 모델(Bayesian Model)"
   ]
  },
  {
   "cell_type": "markdown",
   "metadata": {},
   "source": [
    "베이지안 확률 모델은 확률 분포를 이용한 모델이다."
   ]
  },
  {
   "cell_type": "markdown",
   "metadata": {},
   "source": [
    "Naive Bayes 분류기에서 모든 특성값은 서로 독립적임을 가정한다. 즉 특성간에 어떠한 연관성도 없다는 것을 가정하고 각 특성이 독립적으로 어떤 분류를 만들어 내는 것으로 간주."
   ]
  },
  {
   "cell_type": "markdown",
   "metadata": {
    "ExecuteTime": {
     "end_time": "2020-07-09T09:42:51.244033Z",
     "start_time": "2020-07-09T09:42:51.124744Z"
    }
   },
   "source": [
    "![Image](https://i.pinimg.com/originals/2a/51/32/2a5132bc6948097eb871d51820b938ab.jpg)"
   ]
  },
  {
   "cell_type": "markdown",
   "metadata": {},
   "source": [
    "간단한 예를 들어 바구니 속의 과일을 분류하는 규칙을 만든다고 가정해보자."
   ]
  },
  {
   "cell_type": "markdown",
   "metadata": {},
   "source": [
    "여러 종류의 과일들이 있을 때 특정 범주(Category) \"사과\"를 식으로 표현하면 $ \\ C_k $와 같이 표현할 수 있다.\n",
    "<br>\n",
    "이 때, $ \\ C_k $ 혹은 사과를 구성하는 독립적인 특징들(독립변수)을 생각해 볼 수 있다.<br>\n",
    "예를 들면 \"색깔\", \"모양\", \"크기\" 등이 있을 수 있다. 각각의 요소들을 벡터로 표현하면 다음과 같이 표기할 수 있다.<br>\n",
    "<br>\n",
    "\\begin{equation} \\ x=(x_1,...,x_n) \\end{equation}\n",
    "<br>\n",
    "이 때 독립변수들이 \"사과($ \\ C_k $)\"로 분류될 수 있는 확률은 사과를 구성하는 각각의 특징들(색깔, 모양, 크기)의 확률값에 달려있다. 그래서"
   ]
  },
  {
   "cell_type": "markdown",
   "metadata": {},
   "source": [
    "\\begin{equation*}\n",
    "p(C_k | x_1, ..., x_n) \n",
    "\\end{equation*}"
   ]
  },
  {
   "cell_type": "markdown",
   "metadata": {},
   "source": [
    "다음과 같은 식으로 표현할 수 있다. 여기서 각각의 $ \\ x_i $들은 \"색깔\", \"모양\", \"크기\"와 같이 해당 분류를 구성하는 독립변수들이다. 해당 공식은 하지만 독립변수가 많을 경우 베이지안 모델을 바로 적용할 수 없다. 그러므로 위 식은 베이즈 정리와 조건부 확률을 이용하여 다음과 같이 정리 가능하다."
   ]
  },
  {
   "cell_type": "markdown",
   "metadata": {},
   "source": [
    "\\begin{equation*} p(c_k|x) = \\frac{p(C_k)p(x|C_k)}{p(x)} \\end{equation*}"
   ]
  },
  {
   "cell_type": "markdown",
   "metadata": {},
   "source": [
    "**베이즈 정리는 두 확률 변수 $C_k$와 $x$ 사이의 사전 확률과 사후 확률 사이의 관계를 우도로 나타내준다.** 즉 사전 확률과 사후확률이 데이터에서 주어진다면 우도 확률을 구할 수 있다."
   ]
  },
  {
   "cell_type": "markdown",
   "metadata": {},
   "source": [
    "해당 식을 Bayesian Probability에서 사용하는 용어를 기준으로 바꾸면 다음과 같다.<br><br> \\begin{equation} posterior = \\frac{prior \\times likelihood}{evidence} \\end{equation}"
   ]
  },
  {
   "cell_type": "markdown",
   "metadata": {},
   "source": [
    "(posterior: 사후확률 / prior: 사전확률 / likelihood:우도(가능도) / evidence:관찰값)<br><br>\n",
    "**사전확률**: 사건 $\\ x$가 발생하기 이전에 갖고 있던 사전 $ \\ C_k $의 확률 -> $\\ p(C_k)$<br>\n",
    "**사후확률**: 사전확률에서 사건 $\\ x$가 발생하고 이 정보를 반영한 사건 A의 확률 -> $ \\ p(c_k|x)$<br><br>\n",
    "\\begin{equation} 사후확률 = 사전확률 \\times \\frac{P(x|C_k)}{P(x)} \\end{equation}<br>\n",
    "**우도(가능도)**: 위의 식에서 $\\ P(x|C_k) $<br>\n",
    "**관찰값(정규화 상수)**: 위의 식에서 $\\ P(x)$<br>"
   ]
  },
  {
   "cell_type": "markdown",
   "metadata": {},
   "source": [
    "\\begin{equation*} p(C_k|x) = \\frac{p(C_k)p(x|C_k)}{p(x)} \\end{equation*}"
   ]
  },
  {
   "cell_type": "markdown",
   "metadata": {},
   "source": [
    "실제로 위 식에서 분모 부분은 필요가 없다. 분모 값은 $ \\ C_k $ 확률에 의해 값이 정해지지 않기 때문"
   ]
  },
  {
   "cell_type": "markdown",
   "metadata": {},
   "source": [
    "\\begin{equation*} p(C_k|x) = \\ p(C_k)p(x|C_k) \\end{equation*}"
   ]
  },
  {
   "cell_type": "markdown",
   "metadata": {},
   "source": [
    "다음 우도 $\\ p(x|C_k)$에서 $\\ x$는 $ \\ x_1,...,x_n$를 가리켰었다. 이 때  조건부 확률 연쇄 법칙을 사용하여 다음과 같이 다시 쓸 수 있다."
   ]
  },
  {
   "cell_type": "markdown",
   "metadata": {},
   "source": [
    "\\begin{equation} \\ p(C_k)p(x_1,...,x_n|C_k) \\end{equation}<br>\n",
    "\\begin{equation} \\ p(C_k) p(x_1|C_k) p(x_2|C_k, x_1) ... p(x_n|C_k, x_1, x_2 ... x_{n-1}) \\end{equation}"
   ]
  },
  {
   "cell_type": "markdown",
   "metadata": {},
   "source": [
    "즉 어떤 과일의 \"색깔\", \"모양\", \"크기\"가 주어졌을 때 그것을 \"사과\"로 분류할 확률 $p(C_k|x)$ 은 <br>\n",
    "역으로 사과라고 분류를 했을 때의 확률 $p(C_k)$과<br>\n",
    "사과라는 분류가 주어졌을 때 해당 \"색깔\"이 주어질 확률 $p(x_1|C_k)$,<br>\n",
    "색깔과 사과라는 분류가 주어졌을 때 해당 \"모양\"이 나타날 확률 $p(x_2|C_k, x_1)$ 등등<br>\n",
    "이어져 나가는 모든 사건의 곱사건이라고 할 수 있다.."
   ]
  },
  {
   "cell_type": "markdown",
   "metadata": {},
   "source": [
    "하지만 이때 \"색깔\"과 \"모양\", \"크기\"와 같은 모든 특징들을 $F_i$라고 했을 때 각각의 특징들은 독립적이므로 이와같이 다시 정의할 수 있다."
   ]
  },
  {
   "cell_type": "markdown",
   "metadata": {},
   "source": [
    "\\begin{equation} \\ p(C_k) p(x_1|C_k) p(x_2|C_k) ... p(x_n|C_k) \\end{equation}"
   ]
  },
  {
   "cell_type": "markdown",
   "metadata": {},
   "source": [
    "정리하자면 식은 다음과 같이 정리될 수 있다."
   ]
  },
  {
   "cell_type": "markdown",
   "metadata": {},
   "source": [
    "\\begin{equation} p(C_k) \\prod_{i=1}^{n}p(x_i|C_k) \\end{equation}"
   ]
  },
  {
   "cell_type": "markdown",
   "metadata": {},
   "source": [
    "-----"
   ]
  },
  {
   "cell_type": "markdown",
   "metadata": {},
   "source": [
    "### 확률 모델로부터의 분류기 생성"
   ]
  },
  {
   "cell_type": "markdown",
   "metadata": {},
   "source": [
    "나이브 베이즈 분류는 이 확률 모델과 결정 규칙을 조합한다. 즉 나이브 베이즈 분류에서는 클래스 k, 즉 $C_k$에 대해서 다음 식을 통해 최대 확률을 갖는 클래스 k를 찾아낸다."
   ]
  },
  {
   "cell_type": "markdown",
   "metadata": {},
   "source": [
    "\\begin{equation} \\hat{y}=\\operatorname*{argmax}_{k\\in(1, ...,K)} p(C_k) \\prod_{i=1}^{n}p(x_i|C_k) \\end{equation}"
   ]
  },
  {
   "cell_type": "markdown",
   "metadata": {},
   "source": [
    "즉 각 특징들이 주어졌을 때 가장 큰 확률로 일치하는 분류를 뱉어낸다는 의미"
   ]
  },
  {
   "cell_type": "markdown",
   "metadata": {},
   "source": [
    "----------------"
   ]
  },
  {
   "cell_type": "markdown",
   "metadata": {},
   "source": [
    "### 나이브 베이즈 분류 모형"
   ]
  },
  {
   "cell_type": "markdown",
   "metadata": {},
   "source": [
    "사이킷런의 naive_bayes 서브 패키지에서는 다음 3가지 나이브베이즈 모형 클래스를 제공한다."
   ]
  },
  {
   "cell_type": "markdown",
   "metadata": {},
   "source": [
    "1. 정규분포 나이브베이즈(GaussianNB)<br>\n",
    "    연속적인 값을 지닌 데이터를 처리할때 사용\n",
    "2. **다항분포 나이브베이즈(MultinomialNB)**<br>\n",
    "    문서 분류에 사용\n",
    "3. 베르누이분포 나이브베이즈(BernoulliNB)<br>\n",
    "    짧은 텍스트를 분류할 때, 용어의 부재를 명시적으로 모델링할 때 사용"
   ]
  },
  {
   "cell_type": "markdown",
   "metadata": {},
   "source": [
    "이 중에서 우리는 다항분포 나이브 베이즈만 볼 예정"
   ]
  },
  {
   "cell_type": "markdown",
   "metadata": {},
   "source": [
    "### 다항분포 나이브 베이즈(Multinomial Naive Bayes)"
   ]
  },
  {
   "cell_type": "markdown",
   "metadata": {},
   "source": [
    "다항 분포란 여러개의 값을 가질수 있는 독립 확률변수들에 대한 확률 분포이다."
   ]
  },
  {
   "cell_type": "markdown",
   "metadata": {},
   "source": [
    "다항 분포 나이브 베이즈는 한 문서에서 특정 단어의 출현을 나타내는 여러 사건(다항)을 가지고 문서를 분류하는데 사용되는 모델이다."
   ]
  },
  {
   "cell_type": "markdown",
   "metadata": {
    "ExecuteTime": {
     "start_time": "2020-07-10T15:26:26.644Z"
    }
   },
   "source": [
    "다음은 다항분포 나이브 베이즈의 의사 코드(pseudocode)이다."
   ]
  },
  {
   "cell_type": "markdown",
   "metadata": {},
   "source": [
    "![Image](http://docs.likejazz.com/images/2017/multinomialnb.png)"
   ]
  },
  {
   "cell_type": "markdown",
   "metadata": {},
   "source": [
    "\n",
    "## 나이브 베이즈 분류기의 장점\n",
    "<br>\n",
    "1. 간단하고 구현이 쉽다.<br>\n",
    "2. 훈련 데이터가 작아도 된다.<br>\n",
    "3. 연속적이거나 불연속적인 데이터를 모두 처리할 수 있다.<br>\n",
    "4. 속도가 빠르기에 실시간 예측에 사용됨<br>\n",
    "5. 관계가 없는 특징에 민감하게 반응하지 않음<br>"
   ]
  },
  {
   "cell_type": "markdown",
   "metadata": {},
   "source": [
    "각 단어가 독립적이라는 것을 가정하기 때문에 나이브 베이즈 분류기는 Bag of Words와 본질적으로 같은 접근을 취함(범주가 주어졌을 때 각 단어가 나타날 확률(우도)의 연쇄곱으로 판단하기 때문) -> a$\\times$b나 b$\\times$a는 같기 때문에 단어의 등장 순서는 무시<br>\n",
    "<br>\n",
    "나이브 베이즈 분류기는 언어모델에서 유니그램(Unigram)과 같다. 유니그램은 임의의 문자열이 주어졌을 때 범주별 각 단어의 등장 확률을 연속적으로 곱해 해당 문자열이 나타날 확률을 계산함 나이브 베이즈 모델은 사전확률을 추가적으로 곱한다는 것만 차이가 있음\n",
    "\n",
    " "
   ]
  },
  {
   "cell_type": "markdown",
   "metadata": {},
   "source": [
    "## 텍스트 분류(Text Classification)"
   ]
  },
  {
   "cell_type": "markdown",
   "metadata": {},
   "source": [
    "필요한 패키지들을 불러옵니다."
   ]
  },
  {
   "cell_type": "code",
   "execution_count": 1,
   "metadata": {
    "ExecuteTime": {
     "end_time": "2020-07-11T22:21:31.371962Z",
     "start_time": "2020-07-11T22:21:30.598579Z"
    }
   },
   "outputs": [],
   "source": [
    "%matplotlib inline\n",
    "import numpy as np\n",
    "import matplotlib.pyplot as plt\n",
    "import seaborn as sns; sns.set()\n",
    "from sklearn.metrics import accuracy_score\n",
    "from sklearn.pipeline import make_pipeline\n",
    "from sklearn.metrics import confusion_matrix\n",
    "from sklearn.naive_bayes import MultinomialNB\n",
    "from sklearn.datasets import fetch_20newsgroups\n",
    "from sklearn.feature_extraction.text import TfidfVectorizer\n",
    "from sklearn.feature_extraction.text import CountVectorizer\n",
    "from sklearn.feature_extraction.text import TfidfTransformer"
   ]
  },
  {
   "cell_type": "markdown",
   "metadata": {},
   "source": [
    "## 데이터 불러오기(Loading data)"
   ]
  },
  {
   "cell_type": "markdown",
   "metadata": {},
   "source": [
    "sklearn에서 뉴스 데이터들을 훈련 데이터와 테스트 데이터로 각각 불러옵니다."
   ]
  },
  {
   "cell_type": "code",
   "execution_count": 2,
   "metadata": {
    "ExecuteTime": {
     "end_time": "2020-07-11T22:21:32.158947Z",
     "start_time": "2020-07-11T22:21:31.719848Z"
    }
   },
   "outputs": [],
   "source": [
    "# 모든 카테고리들 목록\n",
    "categories = ['alt.atheism',\n",
    "     'comp.graphics',\n",
    "     'comp.os.ms-windows.misc',\n",
    "     'comp.sys.ibm.pc.hardware',\n",
    "     'comp.sys.mac.hardware',\n",
    "     'comp.windows.x',\n",
    "     'misc.forsale',\n",
    "     'rec.autos',\n",
    "     'rec.motorcycles',\n",
    "     'rec.sport.baseball',\n",
    "     'rec.sport.hockey',\n",
    "     'sci.crypt',\n",
    "     'sci.electronics',\n",
    "     'sci.med',\n",
    "     'sci.space',\n",
    "     'soc.religion.christian',\n",
    "     'talk.politics.guns',\n",
    "     'talk.politics.mideast',\n",
    "     'talk.politics.misc',\n",
    "     'talk.religion.misc']\n",
    "\n",
    "# 훈련 데이터 생성\n",
    "train_data = fetch_20newsgroups(subset='train', categories=categories)\n",
    "# 테스트 데이터 생성\n",
    "test_data = fetch_20newsgroups(subset='test', categories=categories, shuffle=True)"
   ]
  },
  {
   "cell_type": "code",
   "execution_count": 3,
   "metadata": {
    "ExecuteTime": {
     "end_time": "2020-07-11T22:21:32.600140Z",
     "start_time": "2020-07-11T22:21:32.597097Z"
    }
   },
   "outputs": [
    {
     "name": "stdout",
     "output_type": "stream",
     "text": [
      "훈련 데이터 문서 수: 11314\n",
      "테스트 데이터 문서 수: 7532\n"
     ]
    }
   ],
   "source": [
    "# 훈련 데이터/테스트 데이터의 문서 수\n",
    "print(\"훈련 데이터 문서 수: {}\".format(len(train_data.data)))\n",
    "print(\"테스트 데이터 문서 수: {}\".format(len(test_data.data)))"
   ]
  },
  {
   "cell_type": "code",
   "execution_count": 4,
   "metadata": {
    "ExecuteTime": {
     "end_time": "2020-07-11T22:21:33.319612Z",
     "start_time": "2020-07-11T22:21:33.098613Z"
    }
   },
   "outputs": [
    {
     "name": "stdout",
     "output_type": "stream",
     "text": [
      "모든 문서의 카테고리 이름:\n",
      " ['alt.atheism', 'comp.graphics', 'comp.os.ms-windows.misc', 'comp.sys.ibm.pc.hardware', 'comp.sys.mac.hardware', 'comp.windows.x', 'misc.forsale', 'rec.autos', 'rec.motorcycles', 'rec.sport.baseball', 'rec.sport.hockey', 'sci.crypt', 'sci.electronics', 'sci.med', 'sci.space', 'soc.religion.christian', 'talk.politics.guns', 'talk.politics.mideast', 'talk.politics.misc', 'talk.religion.misc']\n"
     ]
    }
   ],
   "source": [
    "all_data = fetch_20newsgroups(subset=\"all\")\n",
    "print(\"모든 문서의 카테고리 이름:\\n\", all_data.target_names)"
   ]
  },
  {
   "cell_type": "markdown",
   "metadata": {},
   "source": [
    "### 카테고리 분류; Categories(taget) classification\n",
    "0. 'alt.atheism'<br>\n",
    "1. 'comp.graphics'<br>\n",
    "2. 'comp.os.ms-windows.misc'<br>\n",
    "3. 'comp.sys.ibm.pc.hardware'<br>\n",
    "4. 'comp.sys.mac.hardware'<br>\n",
    "5. 'comp.windows.x'<br>\n",
    "6. 'misc.forsale'<br>\n",
    "7. 'rec.autos'<br>\n",
    "8. 'rec.motorcycles'<br>\n",
    "9. 'rec.sport.baseball'<br>\n",
    "10. 'rec.sport.hockey'<br>\n",
    "11. 'sci.crypt'<br>\n",
    "12. 'sci.electronics'<br>\n",
    "13. 'sci.med'<br>\n",
    "14. 'sci.space'<br>\n",
    "15. 'soc.religion.christian'<br>\n",
    "16. 'talk.politics.guns'<br>\n",
    "17. 'talk.politics.mideast'<br>\n",
    "18. 'talk.politics.misc'<br>\n",
    "19. 'talk.religion.misc'<br>"
   ]
  },
  {
   "cell_type": "code",
   "execution_count": 5,
   "metadata": {
    "ExecuteTime": {
     "end_time": "2020-07-11T22:21:34.259026Z",
     "start_time": "2020-07-11T22:21:34.256514Z"
    }
   },
   "outputs": [
    {
     "name": "stdout",
     "output_type": "stream",
     "text": [
      "16\n"
     ]
    }
   ],
   "source": [
    "print(train_data.target[5])"
   ]
  },
  {
   "cell_type": "code",
   "execution_count": 6,
   "metadata": {
    "ExecuteTime": {
     "end_time": "2020-07-11T22:21:35.101088Z",
     "start_time": "2020-07-11T22:21:35.098698Z"
    },
    "scrolled": true
   },
   "outputs": [
    {
     "name": "stdout",
     "output_type": "stream",
     "text": [
      "From: dfo@vttoulu.tko.vtt.fi (Foxvog Douglas)\n",
      "Subject: Re: Rewording the Second Amendment (ideas)\n",
      "Organization: VTT\n",
      "Lines: 58\n",
      "\n",
      "In article <1r1eu1$4t@transfer.stratus.com> cdt@sw.stratus.com (C. D. Tavares) writes:\n",
      ">In article <1993Apr20.083057.16899@ousrvr.oulu.fi>, dfo@vttoulu.tko.vtt.fi (Foxvog Douglas) writes:\n",
      ">> In article <1qv87v$4j3@transfer.stratus.com> cdt@sw.stratus.com (C. D. Tavares) writes:\n",
      ">> >In article <C5n3GI.F8F@ulowell.ulowell.edu>, jrutledg@cs.ulowell.edu (John Lawrence Rutledge) writes:\n",
      ">\n",
      ">> >> The massive destructive power of many modern weapons, makes the\n",
      ">> >> cost of an accidental or crimial usage of these weapons to great.\n",
      ">> >> The weapons of mass destruction need to be in the control of\n",
      ">> >> the government only.  Individual access would result in the\n",
      ">> >> needless deaths of millions.  This makes the right of the people\n",
      ">> >> to keep and bear many modern weapons non-existant.\n",
      "\n",
      ">> >Thanks for stating where you're coming from.  Needless to say, I\n",
      ">> >disagree on every count.\n",
      "\n",
      ">> You believe that individuals should have the right to own weapons of\n",
      ">> mass destruction?  I find it hard to believe that you would support a \n",
      ">> neighbor's right to keep nuclear weapons, biological weapons, and nerve\n",
      ">> gas on his/her property.  \n",
      "\n",
      ">> If we cannot even agree on keeping weapons of mass destruction out of\n",
      ">> the hands of individuals, can there be any hope for us?\n",
      "\n",
      ">I don't sign any blank checks.\n",
      "\n",
      "Of course.  The term must be rigidly defined in any bill.\n",
      "\n",
      ">When Doug Foxvog says \"weapons of mass destruction,\" he means CBW and\n",
      ">nukes.  When Sarah Brady says \"weapons of mass destruction\" she means\n",
      ">Street Sweeper shotguns and semi-automatic SKS rifles.  \n",
      "\n",
      "I doubt she uses this term for that.  You are using a quote allegedly\n",
      "from her, can you back it up?\n",
      "\n",
      ">When John\n",
      ">Lawrence Rutledge says \"weapons of mass destruction,\" and then immediately\n",
      ">follows it with:\n",
      "\n",
      ">>> The US has thousands of people killed each year by handguns,\n",
      ">>> this number can easily be reduced by putting reasonable restrictions\n",
      ">>> on them.\n",
      "\n",
      ">...what does Rutledge mean by the term?\n",
      "\n",
      "I read the article as presenting first an argument about weapons of mass\n",
      "destruction (as commonly understood) and then switching to other topics.\n",
      "The first point evidently was to show that not all weapons should be\n",
      "allowed, and then the later analysis was, given this understanding, to\n",
      "consider another class.\n",
      "\n",
      ">cdt@rocket.sw.stratus.com   --If you believe that I speak for my company,\n",
      ">OR cdt@vos.stratus.com        write today for my special Investors' Packet...\n",
      "\n",
      "\n",
      "\n",
      "-- \n",
      "doug foxvog\n",
      "douglas.foxvog@vtt.fi\n",
      "\n"
     ]
    }
   ],
   "source": [
    "# 훈련 데이터 샘플\n",
    "print(train_data.data[5])"
   ]
  },
  {
   "cell_type": "markdown",
   "metadata": {},
   "source": [
    "## Step by Step"
   ]
  },
  {
   "cell_type": "markdown",
   "metadata": {},
   "source": [
    "### Training data -> BoW(TDM) -> TF-IDF 측정"
   ]
  },
  {
   "cell_type": "markdown",
   "metadata": {},
   "source": [
    "**TDM(Term Document Matrix)**<br>\n",
    "문서 당의 단어들의 출현 빈도를 측정하여 만드는 matrix"
   ]
  },
  {
   "cell_type": "markdown",
   "metadata": {},
   "source": [
    "**TF-IDF(Term Frequency-Inverse Document Frequency)**<br>\n",
    "어떤 단어가 특정 문서 내에서 얼마나 중요한 것인지 나타내는 통계적인 수치<br>\n",
    "TF(Term Frequency)는 특정한 단어가 문서 내에 얼마나 자주 등장하는지를 나타내는 값 -> 이 값이 높을 수록 문서에서 중요한 것. <br>\n",
    "IDF(Inverse Document Frequency)는 앞의 TF, 즉 DF(Document Frequency)의 역수를 의미한다.<br>\n",
    "\n",
    "\n"
   ]
  },
  {
   "cell_type": "markdown",
   "metadata": {},
   "source": [
    "TF-IDF을 이용하면 여러 개의 문서 가운데 각 문서 내에 있는 색인어(term)의 가중치가 적용된 수치값을 부여할 수 있다. 계산을 통해 문서 내에서 상대적으로 더 중요한 단어가 어떤 것인지 알 수 있다."
   ]
  },
  {
   "cell_type": "code",
   "execution_count": 50,
   "metadata": {
    "ExecuteTime": {
     "end_time": "2020-07-07T13:49:26.583858Z",
     "start_time": "2020-07-07T13:49:24.301821Z"
    }
   },
   "outputs": [
    {
     "name": "stdout",
     "output_type": "stream",
     "text": [
      "(11314, 130107)\n"
     ]
    }
   ],
   "source": [
    "# tdm: Term Document Matrix(Document-term matrix) = Bag of Words\n",
    "\n",
    "tdmvector = CountVectorizer()\n",
    "X_train_tdm = tdmvector.fit_transform(train_data.data)\n",
    "print(X_train_tdm.shape)\n",
    "# 11314: 문서의 개수 / 130107: term의 개수"
   ]
  },
  {
   "cell_type": "code",
   "execution_count": 51,
   "metadata": {
    "ExecuteTime": {
     "end_time": "2020-07-07T13:49:26.698894Z",
     "start_time": "2020-07-07T13:49:26.585090Z"
    }
   },
   "outputs": [
    {
     "name": "stdout",
     "output_type": "stream",
     "text": [
      "(11314, 130107)\n"
     ]
    }
   ],
   "source": [
    "tfidf_transformer = TfidfTransformer()\n",
    "tfidfv=tfidf_transformer.fit_transform(X_train_tdm)\n",
    "print(tfidfv.shape)"
   ]
  },
  {
   "cell_type": "code",
   "execution_count": 52,
   "metadata": {
    "ExecuteTime": {
     "end_time": "2020-07-07T13:49:26.837974Z",
     "start_time": "2020-07-07T13:49:26.700211Z"
    }
   },
   "outputs": [
    {
     "data": {
      "text/plain": [
       "MultinomialNB()"
      ]
     },
     "execution_count": 52,
     "metadata": {},
     "output_type": "execute_result"
    }
   ],
   "source": [
    "mod = MultinomialNB()\n",
    "mod.fit(tfidfv, train_data.target)"
   ]
  },
  {
   "cell_type": "markdown",
   "metadata": {},
   "source": [
    "### Test data -> BoW(TDM) -> TF-IDF 측정"
   ]
  },
  {
   "cell_type": "code",
   "execution_count": 53,
   "metadata": {
    "ExecuteTime": {
     "end_time": "2020-07-07T13:49:26.842263Z",
     "start_time": "2020-07-07T13:49:26.839084Z"
    }
   },
   "outputs": [
    {
     "data": {
      "text/plain": [
       "MultinomialNB(alpha=0.1)"
      ]
     },
     "execution_count": 53,
     "metadata": {},
     "output_type": "execute_result"
    }
   ],
   "source": [
    "MultinomialNB(alpha=0.1, class_prior=None, fit_prior=True)"
   ]
  },
  {
   "cell_type": "code",
   "execution_count": 54,
   "metadata": {
    "ExecuteTime": {
     "end_time": "2020-07-07T13:49:28.160208Z",
     "start_time": "2020-07-07T13:49:26.843444Z"
    }
   },
   "outputs": [],
   "source": [
    "X_test_tdm = tdmvector.transform(test_data.data)"
   ]
  },
  {
   "cell_type": "code",
   "execution_count": 55,
   "metadata": {
    "ExecuteTime": {
     "end_time": "2020-07-07T13:49:28.190147Z",
     "start_time": "2020-07-07T13:49:28.161166Z"
    }
   },
   "outputs": [],
   "source": [
    "tfidfv_test = tfidf_transformer.transform(X_test_tdm)"
   ]
  },
  {
   "cell_type": "markdown",
   "metadata": {},
   "source": [
    "### Prediction"
   ]
  },
  {
   "cell_type": "code",
   "execution_count": 56,
   "metadata": {
    "ExecuteTime": {
     "end_time": "2020-07-07T13:49:28.222499Z",
     "start_time": "2020-07-07T13:49:28.191168Z"
    }
   },
   "outputs": [
    {
     "name": "stdout",
     "output_type": "stream",
     "text": [
      "정확도: 0.7738980350504514\n"
     ]
    }
   ],
   "source": [
    "predicted=mod.predict(tfidfv_test)\n",
    "print(\"정확도:\", accuracy_score(test_data.target, predicted))"
   ]
  },
  {
   "cell_type": "markdown",
   "metadata": {},
   "source": [
    "## Make_pipeline"
   ]
  },
  {
   "cell_type": "code",
   "execution_count": 57,
   "metadata": {
    "ExecuteTime": {
     "end_time": "2020-07-07T13:49:28.226196Z",
     "start_time": "2020-07-07T13:49:28.223641Z"
    }
   },
   "outputs": [],
   "source": [
    "# 모델 생성\n",
    "# TF-IDF(Term Frequency - Inverse Document Frequency)\n",
    "# 여러 문서에서 <특정 단어>가 <특정 문서> 내에서 얼마나 중요한지를 가중치로 표시\n",
    "#\n",
    "# MultinomialNB -> Multinomial Naive Bayes\n",
    "model = make_pipeline(TfidfVectorizer(), MultinomialNB())\n"
   ]
  },
  {
   "cell_type": "code",
   "execution_count": 58,
   "metadata": {
    "ExecuteTime": {
     "end_time": "2020-07-07T13:49:31.992837Z",
     "start_time": "2020-07-07T13:49:28.227417Z"
    }
   },
   "outputs": [],
   "source": [
    "# 훈련 데이터로 모델 훈련\n",
    "# train_data.data는 TfidfVectorizer()함수에 삽입\n",
    "# 이후 데이터는 train_data.target을 정답지로 하여 MultinomialNB()에 삽입\n",
    "model.fit(train_data.data, train_data.target)\n",
    "\n",
    "# 테스트 데이터를 위한 라벨 생성\n",
    "labels = model.predict(test_data.data)"
   ]
  },
  {
   "cell_type": "markdown",
   "metadata": {},
   "source": [
    "## Heatmap visualization"
   ]
  },
  {
   "cell_type": "code",
   "execution_count": 60,
   "metadata": {
    "ExecuteTime": {
     "end_time": "2020-07-07T13:50:01.031285Z",
     "start_time": "2020-07-07T13:49:59.977887Z"
    }
   },
   "outputs": [
    {
     "data": {
      "text/plain": [
       "Text(30.499999999999993, 0.5, 'Predicted Label')"
      ]
     },
     "execution_count": 60,
     "metadata": {},
     "output_type": "execute_result"
    },
    {
     "data": {
      "image/png": "[encoded data removed]",
      "text/plain": [
       "<Figure size 432x288 with 2 Axes>"
      ]
     },
     "metadata": {},
     "output_type": "display_data"
    }
   ],
   "source": [
    "mat = confusion_matrix(test_data.target, labels)\n",
    "sns.heatmap(mat.T, square=False, annot=True, fmt=\"d\", cbar=True,\n",
    "           xticklabels=train_data.target_names,\n",
    "           yticklabels=test_data.target_names)\n",
    "plt.xlabel(\"True Label\")\n",
    "plt.ylabel(\"Predicted Label\")"
   ]
  },
  {
   "cell_type": "markdown",
   "metadata": {},
   "source": [
    "## Test!"
   ]
  },
  {
   "cell_type": "code",
   "execution_count": 40,
   "metadata": {
    "ExecuteTime": {
     "end_time": "2020-07-07T09:39:24.896725Z",
     "start_time": "2020-07-07T09:39:24.890891Z"
    }
   },
   "outputs": [],
   "source": [
    "def predict_category(s, train=train_data, model=model):\n",
    "    pred=model.predict([s])\n",
    "    return train.target_names[pred[0]]"
   ]
  },
  {
   "cell_type": "code",
   "execution_count": 41,
   "metadata": {
    "ExecuteTime": {
     "end_time": "2020-07-07T09:39:25.738025Z",
     "start_time": "2020-07-07T09:39:25.730574Z"
    }
   },
   "outputs": [
    {
     "data": {
      "text/plain": [
       "'soc.religion.christian'"
      ]
     },
     "execution_count": 41,
     "metadata": {},
     "output_type": "execute_result"
    }
   ],
   "source": [
    "predict_category(\"Jesus Christ\")"
   ]
  },
  {
   "cell_type": "code",
   "execution_count": 42,
   "metadata": {
    "ExecuteTime": {
     "end_time": "2020-07-07T09:39:26.574651Z",
     "start_time": "2020-07-07T09:39:26.568155Z"
    }
   },
   "outputs": [
    {
     "data": {
      "text/plain": [
       "'sci.space'"
      ]
     },
     "execution_count": 42,
     "metadata": {},
     "output_type": "execute_result"
    }
   ],
   "source": [
    "predict_category(\"SpaceX launched a new rocketship\")"
   ]
  },
  {
   "cell_type": "code",
   "execution_count": 43,
   "metadata": {
    "ExecuteTime": {
     "end_time": "2020-07-07T09:39:27.399254Z",
     "start_time": "2020-07-07T09:39:27.391588Z"
    }
   },
   "outputs": [
    {
     "data": {
      "text/plain": [
       "'sci.med'"
      ]
     },
     "execution_count": 43,
     "metadata": {},
     "output_type": "execute_result"
    }
   ],
   "source": [
    "predict_category(\"Multisystem Inflammatory Syndrome in Children in New York State\")"
   ]
  },
  {
   "cell_type": "code",
   "execution_count": 46,
   "metadata": {
    "ExecuteTime": {
     "end_time": "2020-07-07T09:41:28.323606Z",
     "start_time": "2020-07-07T09:41:28.313165Z"
    }
   },
   "outputs": [
    {
     "data": {
      "text/plain": [
       "'comp.sys.mac.hardware'"
      ]
     },
     "execution_count": 46,
     "metadata": {},
     "output_type": "execute_result"
    }
   ],
   "source": [
    "predict_category(\"Apple\")"
   ]
  },
  {
   "cell_type": "code",
   "execution_count": 48,
   "metadata": {
    "ExecuteTime": {
     "end_time": "2020-07-07T09:41:42.282601Z",
     "start_time": "2020-07-07T09:41:42.272425Z"
    }
   },
   "outputs": [
    {
     "data": {
      "text/plain": [
       "'comp.sys.ibm.pc.hardware'"
      ]
     },
     "execution_count": 48,
     "metadata": {},
     "output_type": "execute_result"
    }
   ],
   "source": [
    "predict_category(\"Samsung\")"
   ]
  },
  {
   "cell_type": "markdown",
   "metadata": {},
   "source": [
    "발췌: <br>\n",
    "1. https://medium.com/@omicro03/%EC%9E%90%EC%97%B0%EC%96%B4%EC%B2%98%EB%A6%AC-nlp-18%EC%9D%BC%EC%B0%A8-%EB%82%98%EC%9D%B4%EB%B8%8C-%EB%B2%A0%EC%9D%B4%EC%A6%88-%EB%B6%84%EB%A5%98%EA%B8%B0-6bab2de8bb1f\n",
    "2. https://en.wikipedia.org/wiki/Bayesian_probability\n",
    "3. https://datascienceschool.net/view-notebook/c19b48e3c7b048668f2bb0a113bd25f7/\n",
    "4. https://nlp.stanford.edu/IR-book/pdf/13bayes.pdf\n",
    "5. https://ratsgo.github.io/machine%20learning/2017/05/18/naive/\n",
    "6. https://euriion.com/?p=411929\n",
    "7. https://ko.wikipedia.org/wiki/Tf-idf"
   ]
  }
 ],
 "metadata": {
  "kernelspec": {
   "display_name": "Python 3",
   "language": "python",
   "name": "python3"
  },
  "language_info": {
   "codemirror_mode": {
    "name": "ipython",
    "version": 3
   },
   "file_extension": ".py",
   "mimetype": "text/x-python",
   "name": "python",
   "nbconvert_exporter": "python",
   "pygments_lexer": "ipython3",
   "version": "3.7.7"
  },
  "varInspector": {
   "cols": {
    "lenName": 16,
    "lenType": 16,
    "lenVar": 40
   },
   "kernels_config": {
    "python": {
     "delete_cmd_postfix": "",
     "delete_cmd_prefix": "del ",
     "library": "var_list.py",
     "varRefreshCmd": "print(var_dic_list())"
    },
    "r": {
     "delete_cmd_postfix": ") ",
     "delete_cmd_prefix": "rm(",
     "library": "var_list.r",
     "varRefreshCmd": "cat(var_dic_list()) "
    }
   },
   "types_to_exclude": [
    "module",
    "function",
    "builtin_function_or_method",
    "instance",
    "_Feature"
   ],
   "window_display": false
  }
 },
 "nbformat": 4,
 "nbformat_minor": 4
}
