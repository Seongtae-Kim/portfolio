{
 "cells": [
  {
   "cell_type": "markdown",
   "metadata": {
    "heading_collapsed": true
   },
   "source": [
    "# Mecab User Dict"
   ]
  },
  {
   "cell_type": "code",
   "execution_count": 3,
   "metadata": {
    "ExecuteTime": {
     "end_time": "2021-03-08T04:49:05.897864Z",
     "start_time": "2021-03-08T04:49:05.874127Z"
    },
    "hidden": true
   },
   "outputs": [],
   "source": [
    "import re\n",
    "vocab =[re.sub(\"\\n\", \"\", w) for w in open(\"./vocab/kumc_vocab_we.txt\").readlines()]"
   ]
  },
  {
   "cell_type": "code",
   "execution_count": 5,
   "metadata": {
    "ExecuteTime": {
     "end_time": "2021-03-08T04:51:01.233427Z",
     "start_time": "2021-03-08T04:51:01.029372Z"
    },
    "hidden": true
   },
   "outputs": [],
   "source": [
    "for v in vocab:\n",
    "    open(\"./vocab/user_dict.csv\", \"a\").write(\"{},,,,NNP,*,T,{},*,*,*,*\\n\".format(v, v))"
   ]
  },
  {
   "cell_type": "code",
   "execution_count": 1,
   "metadata": {
    "ExecuteTime": {
     "end_time": "2021-03-08T04:55:30.987514Z",
     "start_time": "2021-03-08T04:55:30.980837Z"
    },
    "hidden": true
   },
   "outputs": [],
   "source": [
    "from eunjeon import Mecab"
   ]
  },
  {
   "cell_type": "code",
   "execution_count": 2,
   "metadata": {
    "ExecuteTime": {
     "end_time": "2021-03-08T04:55:35.384815Z",
     "start_time": "2021-03-08T04:55:35.364777Z"
    },
    "hidden": true
   },
   "outputs": [],
   "source": [
    "mecab = Mecab()"
   ]
  },
  {
   "cell_type": "markdown",
   "metadata": {
    "heading_collapsed": true
   },
   "source": [
    "# Similarities"
   ]
  },
  {
   "cell_type": "code",
   "execution_count": 1,
   "metadata": {
    "ExecuteTime": {
     "end_time": "2021-02-07T12:50:27.820312Z",
     "start_time": "2021-02-07T12:50:27.596207Z"
    },
    "hidden": true
   },
   "outputs": [],
   "source": [
    "import pandas as pd"
   ]
  },
  {
   "cell_type": "code",
   "execution_count": 74,
   "metadata": {
    "ExecuteTime": {
     "end_time": "2021-02-07T14:11:30.632269Z",
     "start_time": "2021-02-07T14:11:30.527249Z"
    },
    "hidden": true,
    "scrolled": true
   },
   "outputs": [
    {
     "data": {
      "text/html": [
       "<div>\n",
       "<style scoped>\n",
       "    .dataframe tbody tr th:only-of-type {\n",
       "        vertical-align: middle;\n",
       "    }\n",
       "\n",
       "    .dataframe tbody tr th {\n",
       "        vertical-align: top;\n",
       "    }\n",
       "\n",
       "    .dataframe thead th {\n",
       "        text-align: right;\n",
       "    }\n",
       "</style>\n",
       "<table border=\"1\" class=\"dataframe\">\n",
       "  <thead>\n",
       "    <tr style=\"text-align: right;\">\n",
       "      <th></th>\n",
       "      <th>IDX</th>\n",
       "      <th>CNT</th>\n",
       "      <th>RESPONSE</th>\n",
       "      <th>ZSCORE</th>\n",
       "      <th>SRC</th>\n",
       "      <th>M</th>\n",
       "      <th>STD</th>\n",
       "      <th>K1</th>\n",
       "      <th>K2</th>\n",
       "      <th>E1</th>\n",
       "      <th>E2</th>\n",
       "    </tr>\n",
       "  </thead>\n",
       "  <tbody>\n",
       "    <tr>\n",
       "      <th>0</th>\n",
       "      <td>1</td>\n",
       "      <td>5</td>\n",
       "      <td>1.000000</td>\n",
       "      <td>-0.758431</td>\n",
       "      <td>UMN</td>\n",
       "      <td>279.00</td>\n",
       "      <td>178.918976</td>\n",
       "      <td>녹내장</td>\n",
       "      <td>세동</td>\n",
       "      <td>Glaucoma</td>\n",
       "      <td>Fibrillation</td>\n",
       "    </tr>\n",
       "    <tr>\n",
       "      <th>1</th>\n",
       "      <td>3</td>\n",
       "      <td>3</td>\n",
       "      <td>1.000000</td>\n",
       "      <td>-0.645082</td>\n",
       "      <td>UMN</td>\n",
       "      <td>241.00</td>\n",
       "      <td>92.043468</td>\n",
       "      <td>심근 병증</td>\n",
       "      <td>타이레놀</td>\n",
       "      <td>Cardiomyopathy</td>\n",
       "      <td>Tylenol</td>\n",
       "    </tr>\n",
       "    <tr>\n",
       "      <th>2</th>\n",
       "      <td>4</td>\n",
       "      <td>5</td>\n",
       "      <td>1.000000</td>\n",
       "      <td>-0.758431</td>\n",
       "      <td>UMN</td>\n",
       "      <td>142.50</td>\n",
       "      <td>48.445846</td>\n",
       "      <td>수포진</td>\n",
       "      <td>갑상선 기능 항진증</td>\n",
       "      <td>Herpes</td>\n",
       "      <td>Hyperthyroidism</td>\n",
       "    </tr>\n",
       "    <tr>\n",
       "      <th>3</th>\n",
       "      <td>5</td>\n",
       "      <td>6</td>\n",
       "      <td>4.333333</td>\n",
       "      <td>1.620892</td>\n",
       "      <td>UMN</td>\n",
       "      <td>870.75</td>\n",
       "      <td>398.347733</td>\n",
       "      <td>뱃멀미</td>\n",
       "      <td>구역질</td>\n",
       "      <td>Seasickness</td>\n",
       "      <td>Nausea</td>\n",
       "    </tr>\n",
       "    <tr>\n",
       "      <th>4</th>\n",
       "      <td>9</td>\n",
       "      <td>5</td>\n",
       "      <td>1.600000</td>\n",
       "      <td>-0.333608</td>\n",
       "      <td>UMN</td>\n",
       "      <td>332.75</td>\n",
       "      <td>160.238104</td>\n",
       "      <td>발작</td>\n",
       "      <td>인슐린</td>\n",
       "      <td>Seizures</td>\n",
       "      <td>Insulin</td>\n",
       "    </tr>\n",
       "    <tr>\n",
       "      <th>...</th>\n",
       "      <td>...</td>\n",
       "      <td>...</td>\n",
       "      <td>...</td>\n",
       "      <td>...</td>\n",
       "      <td>...</td>\n",
       "      <td>...</td>\n",
       "      <td>...</td>\n",
       "      <td>...</td>\n",
       "      <td>...</td>\n",
       "      <td>...</td>\n",
       "      <td>...</td>\n",
       "    </tr>\n",
       "    <tr>\n",
       "      <th>423</th>\n",
       "      <td>697</td>\n",
       "      <td>6</td>\n",
       "      <td>1.000000</td>\n",
       "      <td>-0.768853</td>\n",
       "      <td>Mayo</td>\n",
       "      <td>NaN</td>\n",
       "      <td>NaN</td>\n",
       "      <td>골관절염</td>\n",
       "      <td>신장결석증</td>\n",
       "      <td>osteoarthritis</td>\n",
       "      <td>nephrolithiasis</td>\n",
       "    </tr>\n",
       "    <tr>\n",
       "      <th>424</th>\n",
       "      <td>698</td>\n",
       "      <td>6</td>\n",
       "      <td>1.000000</td>\n",
       "      <td>-0.768853</td>\n",
       "      <td>Mayo</td>\n",
       "      <td>NaN</td>\n",
       "      <td>NaN</td>\n",
       "      <td>내측 측부 인대 파열</td>\n",
       "      <td>염전성 심실 빈맥</td>\n",
       "      <td>medial collateral ligament tear</td>\n",
       "      <td>torsade de pointes</td>\n",
       "    </tr>\n",
       "    <tr>\n",
       "      <th>425</th>\n",
       "      <td>699</td>\n",
       "      <td>5</td>\n",
       "      <td>1.200000</td>\n",
       "      <td>-0.627035</td>\n",
       "      <td>Mayo</td>\n",
       "      <td>NaN</td>\n",
       "      <td>NaN</td>\n",
       "      <td>폐 섬유증</td>\n",
       "      <td>충수염</td>\n",
       "      <td>pulmonary fibrosis</td>\n",
       "      <td>appendicitis</td>\n",
       "    </tr>\n",
       "    <tr>\n",
       "      <th>426</th>\n",
       "      <td>700</td>\n",
       "      <td>5</td>\n",
       "      <td>1.000000</td>\n",
       "      <td>-0.758431</td>\n",
       "      <td>Mayo</td>\n",
       "      <td>NaN</td>\n",
       "      <td>NaN</td>\n",
       "      <td>손목터널증후군</td>\n",
       "      <td>폐포염</td>\n",
       "      <td>carpal tunnel syndrome</td>\n",
       "      <td>alveolitis</td>\n",
       "    </tr>\n",
       "    <tr>\n",
       "      <th>427</th>\n",
       "      <td>701</td>\n",
       "      <td>5</td>\n",
       "      <td>1.000000</td>\n",
       "      <td>-0.758431</td>\n",
       "      <td>Mayo</td>\n",
       "      <td>NaN</td>\n",
       "      <td>NaN</td>\n",
       "      <td>결절 홍반</td>\n",
       "      <td>골다공증</td>\n",
       "      <td>erythema nodusum</td>\n",
       "      <td>osteoporosis</td>\n",
       "    </tr>\n",
       "  </tbody>\n",
       "</table>\n",
       "<p>428 rows × 11 columns</p>\n",
       "</div>"
      ],
      "text/plain": [
       "     IDX  CNT  RESPONSE    ZSCORE   SRC       M         STD            K1  \\\n",
       "0      1    5  1.000000 -0.758431   UMN  279.00  178.918976          녹내장    \n",
       "1      3    3  1.000000 -0.645082   UMN  241.00   92.043468        심근 병증    \n",
       "2      4    5  1.000000 -0.758431   UMN  142.50   48.445846          수포진    \n",
       "3      5    6  4.333333  1.620892   UMN  870.75  398.347733          뱃멀미    \n",
       "4      9    5  1.600000 -0.333608   UMN  332.75  160.238104           발작    \n",
       "..   ...  ...       ...       ...   ...     ...         ...           ...   \n",
       "423  697    6  1.000000 -0.768853  Mayo     NaN         NaN         골관절염    \n",
       "424  698    6  1.000000 -0.768853  Mayo     NaN         NaN  내측 측부 인대 파열    \n",
       "425  699    5  1.200000 -0.627035  Mayo     NaN         NaN        폐 섬유증    \n",
       "426  700    5  1.000000 -0.758431  Mayo     NaN         NaN       손목터널증후군   \n",
       "427  701    5  1.000000 -0.758431  Mayo     NaN         NaN        결절 홍반    \n",
       "\n",
       "              K2                               E1                  E2  \n",
       "0            세동                          Glaucoma        Fibrillation  \n",
       "1          타이레놀                    Cardiomyopathy             Tylenol  \n",
       "2    갑상선 기능 항진증                            Herpes     Hyperthyroidism  \n",
       "3           구역질                       Seasickness              Nausea  \n",
       "4           인슐린                          Seizures             Insulin  \n",
       "..           ...                              ...                 ...  \n",
       "423        신장결석증                   osteoarthritis     nephrolithiasis  \n",
       "424    염전성 심실 빈맥  medial collateral ligament tear  torsade de pointes  \n",
       "425         충수염                pulmonary fibrosis        appendicitis  \n",
       "426         폐포염            carpal tunnel syndrome          alveolitis  \n",
       "427        골다공증                  erythema nodusum        osteoporosis  \n",
       "\n",
       "[428 rows x 11 columns]"
      ]
     },
     "execution_count": 74,
     "metadata": {},
     "output_type": "execute_result"
    }
   ],
   "source": [
    "sim = pd.read_excel(\"./similarity/similarity_results.xlsx\")\n",
    "k1 = sim[\"K1\"]\n",
    "k2 = sim[\"K2\"]\n",
    "score = sim[\"ZSCORE\"]\n",
    "sim"
   ]
  },
  {
   "cell_type": "code",
   "execution_count": 36,
   "metadata": {
    "ExecuteTime": {
     "end_time": "2021-02-07T13:42:35.870486Z",
     "start_time": "2021-02-07T13:42:35.867953Z"
    },
    "hidden": true
   },
   "outputs": [],
   "source": [
    "models={\"w2v\":{\"paper\":None, \"textbook\":None, \"article\":None}, \"ft\":{\"paper\":None, \"textbook\":None, \"article\":None}, \"bert\":{\"paper\":None, \"textbook\":None, \"article\":None}}"
   ]
  },
  {
   "cell_type": "code",
   "execution_count": 98,
   "metadata": {
    "ExecuteTime": {
     "end_time": "2021-02-07T14:36:13.403968Z",
     "start_time": "2021-02-07T14:36:13.401037Z"
    },
    "hidden": true
   },
   "outputs": [
    {
     "name": "stdout",
     "output_type": "stream",
     "text": [
      "['bert_paper.model.ep19', 'ft_textbooks.model', 'bert_textbook_model.ep19', 'w2v_textbooks.model', 'w2v_articles.model', 'ft_papers.model', 'ft_articles.model', 'w2v_papers.model']\n"
     ]
    }
   ],
   "source": [
    "import os\n",
    "path=\"./models/\"\n",
    "names = os.listdir(path)\n",
    "print(names)"
   ]
  },
  {
   "cell_type": "code",
   "execution_count": 99,
   "metadata": {
    "ExecuteTime": {
     "end_time": "2021-02-07T14:36:28.750286Z",
     "start_time": "2021-02-07T14:36:16.755060Z"
    },
    "hidden": true
   },
   "outputs": [],
   "source": [
    "import re, pickle, torch\n",
    "ms=[\"w2v\", \"ft\", \"bert\"]\n",
    "parts=[\"textbook\", \"paper\", \"article\"]\n",
    "\n",
    "for name in names:\n",
    "    for model in ms:\n",
    "        for part in parts:\n",
    "            if re.search(model, name) and re.search(part, name):\n",
    "                if model == \"bert\":\n",
    "                    models[model][part] = torch.load(open(path+name, \"rb\"))\n",
    "                else:\n",
    "                    models[model][part] = pickle.load(open(path+name, \"rb\"))"
   ]
  },
  {
   "cell_type": "code",
   "execution_count": 185,
   "metadata": {
    "ExecuteTime": {
     "end_time": "2021-02-07T15:37:14.563962Z",
     "start_time": "2021-02-07T15:37:14.557790Z"
    },
    "hidden": true
   },
   "outputs": [],
   "source": [
    "def get_cos_sim(m, p, k1, k2, tokenizer=None):\n",
    "    from sklearn.metrics.pairwise import cosine_similarity\n",
    "    import numpy as np\n",
    "    \n",
    "    if m == \"bert\":\n",
    "        if models[\"bert\"][p] is None:\n",
    "            return None, None, None\n",
    "        \n",
    "        encoded = tokenizer.encode_plus(k1, return_tensors=\"pt\", add_special_tokens=False)\n",
    "        att = encoded[\"attention_mask\"]\n",
    "        input_id = encoded[\"input_ids\"]\n",
    "\n",
    "        encoded2 = tokenizer.encode_plus(k2, return_tensors=\"pt\", add_special_tokens=False)\n",
    "        att2 = encoded2[\"attention_mask\"]\n",
    "        input_id2 = encoded2[\"input_ids\"]\n",
    "\n",
    "        if input_id.shape[1] == 1 and input_id2.shape[1] == 1: # 단어가 분절되지 않을 경우만\n",
    "            v1 = models[\"bert\"][p](input_id, att)[0].detach().cpu().numpy()\n",
    "            v2 = models[\"bert\"][p](input_id2, att2)[0].detach().cpu().numpy()\n",
    "            return v1, v2, cosine_similarity(v1, v2)[0][0]\n",
    "        else:\n",
    "            return None, None, None\n",
    "    else:\n",
    "        try:\n",
    "            v1 = np.array([models[m][p].wv.get_vector(k1)])\n",
    "        except Exception:\n",
    "            v1 = None\n",
    "        try:\n",
    "            v2 = np.array([models[m][p].wv.get_vector(k2)])\n",
    "        except Exception:\n",
    "            v2 = None\n",
    "\n",
    "        if v1 is not None and v2 is not None:\n",
    "            return v1, v2, cosine_similarity(v1, v2)[0][0]\n",
    "        else:\n",
    "            return v1, v2, None"
   ]
  },
  {
   "cell_type": "code",
   "execution_count": 186,
   "metadata": {
    "ExecuteTime": {
     "end_time": "2021-02-07T15:37:40.421124Z",
     "start_time": "2021-02-07T15:37:15.050866Z"
    },
    "hidden": true
   },
   "outputs": [
    {
     "name": "stderr",
     "output_type": "stream",
     "text": [
      "Calling BertTokenizer.from_pretrained() with the path to a single file or url is deprecated\n"
     ]
    }
   ],
   "source": [
    "def get_cosine_sim(models, k1, k2, score, wordbook=False):\n",
    "    from transformers import BertTokenizer\n",
    "    from tqdm.notebook import tqdm\n",
    "    \n",
    "    tokenizer = BertTokenizer.from_pretrained(\"./similarity/vocab_snu_subchar12367.txt\")\n",
    "    dic = {\"model\":[], \"part\":[], \"k1\":[], \"k1_exist\":[], \"k2\":[], \"k2_exist\":[], \"cosSim\":[], \"original\":[], \"diff\":[]}\n",
    "    k1 = [t1.strip() for t1 in k1]\n",
    "    k2 = [t2.strip() for t2 in k2]\n",
    "    tokenizer.add_tokens(k1+k2)\n",
    "    \n",
    "    for m in tqdm(models):\n",
    "        for p in models[m]:\n",
    "            model = models[m][p]\n",
    "            \n",
    "            for t1, t2, s in zip(k1, k2, score):\n",
    "                \n",
    "                if m == \"bert\":\n",
    "                    v1, v2, cos = get_cos_sim(m, p, t1, t2, tokenizer)\n",
    "                else:\n",
    "                    v1, v2, cos = get_cos_sim(m, p, t1, t2)\n",
    "                \n",
    "                if v1 is not None and v2 is not None:\n",
    "                    dic[\"model\"].append(m)\n",
    "                    dic[\"part\"].append(p)\n",
    "                    dic[\"k1\"].append(t1)\n",
    "                    dic[\"k1_exist\"].append(\"Yes\")\n",
    "                    dic[\"k2\"].append(t2)\n",
    "                    dic[\"k2_exist\"].append(\"Yes\")\n",
    "                    dic[\"cosSim\"].append(cos)\n",
    "                    dic[\"original\"].append(s)\n",
    "                    dic[\"diff\"].append(abs(cos-s))\n",
    "                else:\n",
    "                    dic[\"model\"].append(m)\n",
    "                    dic[\"part\"].append(p)\n",
    "                    dic[\"k1\"].append(t1)\n",
    "                    if v1 is not None:\n",
    "                        dic[\"k1_exist\"].append(\"Yes\")\n",
    "                    else:\n",
    "                        dic[\"k1_exist\"].append(\"No\")\n",
    "                    dic[\"k2\"].append(t2)\n",
    "                    if v2 is not None:\n",
    "                        dic[\"k2_exist\"].append(\"Yes\")\n",
    "                    else:\n",
    "                        dic[\"k2_exist\"].append(\"No\")\n",
    "                    dic[\"cosSim\"].append(\"-\")\n",
    "                    dic[\"original\"].append(s)\n",
    "                    dic[\"diff\"].append(\"-\")\n",
    "                    \n",
    "    df = pd.DataFrame(dic)\n",
    "    df.to_excel(\"./similarity/result.xlsx\")\n",
    "    return df\n",
    "    \n",
    "df = get_cosine_sim(models, k1, k2, score)\n"
   ]
  },
  {
   "cell_type": "code",
   "execution_count": 188,
   "metadata": {
    "ExecuteTime": {
     "end_time": "2021-02-07T15:38:05.434506Z",
     "start_time": "2021-02-07T15:38:05.420005Z"
    },
    "hidden": true
   },
   "outputs": [
    {
     "data": {
      "text/html": [
       "<div>\n",
       "<style scoped>\n",
       "    .dataframe tbody tr th:only-of-type {\n",
       "        vertical-align: middle;\n",
       "    }\n",
       "\n",
       "    .dataframe tbody tr th {\n",
       "        vertical-align: top;\n",
       "    }\n",
       "\n",
       "    .dataframe thead th {\n",
       "        text-align: right;\n",
       "    }\n",
       "</style>\n",
       "<table border=\"1\" class=\"dataframe\">\n",
       "  <thead>\n",
       "    <tr style=\"text-align: right;\">\n",
       "      <th></th>\n",
       "      <th>model</th>\n",
       "      <th>part</th>\n",
       "      <th>k1</th>\n",
       "      <th>k1_exist</th>\n",
       "      <th>k2</th>\n",
       "      <th>k2_exist</th>\n",
       "      <th>cosSim</th>\n",
       "      <th>original</th>\n",
       "      <th>diff</th>\n",
       "    </tr>\n",
       "  </thead>\n",
       "  <tbody>\n",
       "    <tr>\n",
       "      <th>0</th>\n",
       "      <td>w2v</td>\n",
       "      <td>paper</td>\n",
       "      <td>녹내장</td>\n",
       "      <td>No</td>\n",
       "      <td>세동</td>\n",
       "      <td>No</td>\n",
       "      <td>-</td>\n",
       "      <td>-0.758431</td>\n",
       "      <td>-</td>\n",
       "    </tr>\n",
       "    <tr>\n",
       "      <th>1</th>\n",
       "      <td>w2v</td>\n",
       "      <td>paper</td>\n",
       "      <td>심근 병증</td>\n",
       "      <td>No</td>\n",
       "      <td>타이레놀</td>\n",
       "      <td>No</td>\n",
       "      <td>-</td>\n",
       "      <td>-0.645082</td>\n",
       "      <td>-</td>\n",
       "    </tr>\n",
       "    <tr>\n",
       "      <th>2</th>\n",
       "      <td>w2v</td>\n",
       "      <td>paper</td>\n",
       "      <td>수포진</td>\n",
       "      <td>No</td>\n",
       "      <td>갑상선 기능 항진증</td>\n",
       "      <td>No</td>\n",
       "      <td>-</td>\n",
       "      <td>-0.758431</td>\n",
       "      <td>-</td>\n",
       "    </tr>\n",
       "    <tr>\n",
       "      <th>3</th>\n",
       "      <td>w2v</td>\n",
       "      <td>paper</td>\n",
       "      <td>뱃멀미</td>\n",
       "      <td>No</td>\n",
       "      <td>구역질</td>\n",
       "      <td>No</td>\n",
       "      <td>-</td>\n",
       "      <td>1.620892</td>\n",
       "      <td>-</td>\n",
       "    </tr>\n",
       "    <tr>\n",
       "      <th>4</th>\n",
       "      <td>w2v</td>\n",
       "      <td>paper</td>\n",
       "      <td>발작</td>\n",
       "      <td>No</td>\n",
       "      <td>인슐린</td>\n",
       "      <td>No</td>\n",
       "      <td>-</td>\n",
       "      <td>-0.333608</td>\n",
       "      <td>-</td>\n",
       "    </tr>\n",
       "    <tr>\n",
       "      <th>...</th>\n",
       "      <td>...</td>\n",
       "      <td>...</td>\n",
       "      <td>...</td>\n",
       "      <td>...</td>\n",
       "      <td>...</td>\n",
       "      <td>...</td>\n",
       "      <td>...</td>\n",
       "      <td>...</td>\n",
       "      <td>...</td>\n",
       "    </tr>\n",
       "    <tr>\n",
       "      <th>3847</th>\n",
       "      <td>bert</td>\n",
       "      <td>article</td>\n",
       "      <td>골관절염</td>\n",
       "      <td>No</td>\n",
       "      <td>신장결석증</td>\n",
       "      <td>No</td>\n",
       "      <td>-</td>\n",
       "      <td>-0.768853</td>\n",
       "      <td>-</td>\n",
       "    </tr>\n",
       "    <tr>\n",
       "      <th>3848</th>\n",
       "      <td>bert</td>\n",
       "      <td>article</td>\n",
       "      <td>내측 측부 인대 파열</td>\n",
       "      <td>No</td>\n",
       "      <td>염전성 심실 빈맥</td>\n",
       "      <td>No</td>\n",
       "      <td>-</td>\n",
       "      <td>-0.768853</td>\n",
       "      <td>-</td>\n",
       "    </tr>\n",
       "    <tr>\n",
       "      <th>3849</th>\n",
       "      <td>bert</td>\n",
       "      <td>article</td>\n",
       "      <td>폐 섬유증</td>\n",
       "      <td>No</td>\n",
       "      <td>충수염</td>\n",
       "      <td>No</td>\n",
       "      <td>-</td>\n",
       "      <td>-0.627035</td>\n",
       "      <td>-</td>\n",
       "    </tr>\n",
       "    <tr>\n",
       "      <th>3850</th>\n",
       "      <td>bert</td>\n",
       "      <td>article</td>\n",
       "      <td>손목터널증후군</td>\n",
       "      <td>No</td>\n",
       "      <td>폐포염</td>\n",
       "      <td>No</td>\n",
       "      <td>-</td>\n",
       "      <td>-0.758431</td>\n",
       "      <td>-</td>\n",
       "    </tr>\n",
       "    <tr>\n",
       "      <th>3851</th>\n",
       "      <td>bert</td>\n",
       "      <td>article</td>\n",
       "      <td>결절 홍반</td>\n",
       "      <td>No</td>\n",
       "      <td>골다공증</td>\n",
       "      <td>No</td>\n",
       "      <td>-</td>\n",
       "      <td>-0.758431</td>\n",
       "      <td>-</td>\n",
       "    </tr>\n",
       "  </tbody>\n",
       "</table>\n",
       "<p>3852 rows × 9 columns</p>\n",
       "</div>"
      ],
      "text/plain": [
       "     model     part           k1 k1_exist          k2 k2_exist cosSim  \\\n",
       "0      w2v    paper          녹내장       No          세동       No      -   \n",
       "1      w2v    paper        심근 병증       No        타이레놀       No      -   \n",
       "2      w2v    paper          수포진       No  갑상선 기능 항진증       No      -   \n",
       "3      w2v    paper          뱃멀미       No         구역질       No      -   \n",
       "4      w2v    paper           발작       No         인슐린       No      -   \n",
       "...    ...      ...          ...      ...         ...      ...    ...   \n",
       "3847  bert  article         골관절염       No       신장결석증       No      -   \n",
       "3848  bert  article  내측 측부 인대 파열       No   염전성 심실 빈맥       No      -   \n",
       "3849  bert  article        폐 섬유증       No         충수염       No      -   \n",
       "3850  bert  article      손목터널증후군       No         폐포염       No      -   \n",
       "3851  bert  article        결절 홍반       No        골다공증       No      -   \n",
       "\n",
       "      original diff  \n",
       "0    -0.758431    -  \n",
       "1    -0.645082    -  \n",
       "2    -0.758431    -  \n",
       "3     1.620892    -  \n",
       "4    -0.333608    -  \n",
       "...        ...  ...  \n",
       "3847 -0.768853    -  \n",
       "3848 -0.768853    -  \n",
       "3849 -0.627035    -  \n",
       "3850 -0.758431    -  \n",
       "3851 -0.758431    -  \n",
       "\n",
       "[3852 rows x 9 columns]"
      ]
     },
     "execution_count": 188,
     "metadata": {},
     "output_type": "execute_result"
    }
   ],
   "source": [
    "df"
   ]
  },
  {
   "cell_type": "code",
   "execution_count": 192,
   "metadata": {
    "ExecuteTime": {
     "end_time": "2021-02-07T15:38:45.760555Z",
     "start_time": "2021-02-07T15:38:45.679623Z"
    },
    "hidden": true
   },
   "outputs": [
    {
     "name": "stdout",
     "output_type": "stream",
     "text": [
      "OVERALL\n",
      "0.75\n",
      "0.71\n",
      "0.9\n",
      "\n",
      "PAPER\n",
      "None\n",
      "0.7\n",
      "0.96\n",
      "\n",
      "TEXTBOOK\n",
      "0.75\n",
      "0.7\n",
      "0.84\n",
      "\n",
      "ARTICLE\n",
      "0.74\n",
      "0.72\n",
      "None\n"
     ]
    }
   ],
   "source": [
    "from statistics import mean\n",
    "\n",
    "# mean diffs\n",
    "\n",
    "print(\"OVERALL\")\n",
    "print(round(mean(list(df.query(\"model == 'w2v' and diff != '-'\")[\"diff\"])), 2))\n",
    "print(round(mean(list(df.query(\"model == 'ft' and diff != '-'\")[\"diff\"])), 2))\n",
    "print(round(mean(list(df.query(\"model == 'bert' and diff != '-'\")[\"diff\"])), 2))\n",
    "print()\n",
    "print(\"PAPER\")\n",
    "#print(round(mean(list(df.query(\"model == 'w2v' and part == 'paper' and diff != '-'\")[\"diff\"])), 2))\n",
    "print(\"None\")\n",
    "print(round(mean(list(df.query(\"model == 'ft' and part == 'paper' and diff != '-'\")[\"diff\"])), 2))\n",
    "print(round(mean(list(df.query(\"model == 'bert' and part == 'paper' and diff != '-'\")[\"diff\"])), 2))\n",
    "print()\n",
    "print(\"TEXTBOOK\")\n",
    "print(round(mean(list(df.query(\"model == 'w2v' and part == 'textbook' and diff != '-'\")[\"diff\"])), 2))\n",
    "print(round(mean(list(df.query(\"model == 'ft' and part == 'textbook' and diff != '-'\")[\"diff\"])), 2))\n",
    "print(round(mean(list(df.query(\"model == 'bert' and part == 'textbook' and diff != '-'\")[\"diff\"])), 2))\n",
    "print()\n",
    "print(\"ARTICLE\")\n",
    "print(round(mean(list(df.query(\"model == 'w2v' and part == 'article' and diff != '-'\")[\"diff\"])), 2))\n",
    "print(round(mean(list(df.query(\"model == 'ft' and part == 'article' and diff != '-'\")[\"diff\"])), 2))\n",
    "#print(round(mean(list(df.query(\"model == 'bert' and part == 'article' and diff != '-'\")[\"diff\"])), 2))\n",
    "print(\"None\")\n"
   ]
  },
  {
   "cell_type": "code",
   "execution_count": 207,
   "metadata": {
    "ExecuteTime": {
     "end_time": "2021-02-07T15:57:24.170828Z",
     "start_time": "2021-02-07T15:57:24.047492Z"
    },
    "hidden": true,
    "scrolled": true
   },
   "outputs": [
    {
     "name": "stdout",
     "output_type": "stream",
     "text": [
      "1284\n",
      "1284\n",
      "1284\n",
      "OVERALL\n",
      "239\n",
      "1284\n",
      "856\n",
      "\n",
      "428\n",
      "428\n",
      "428\n",
      "PAPER\n",
      "None\n",
      "428\n",
      "428\n",
      "\n",
      "428\n",
      "428\n",
      "428\n",
      "TEXTBOOK\n",
      "121\n",
      "428\n",
      "428\n",
      "\n",
      "ARTICLE\n",
      "118\n",
      "428\n",
      "None\n"
     ]
    }
   ],
   "source": [
    "from collections import Counter\n",
    "\n",
    "print(len(df.query(\"model == 'w2v'\")))\n",
    "print(len(df.query(\"model == 'ft'\")))\n",
    "print(len(df.query(\"model == 'bert'\")))\n",
    "\n",
    "print(\"OVERALL\")\n",
    "print(len(df.query(\"model == 'w2v' and diff != '-'\")))\n",
    "print(len(df.query(\"model == 'ft' and diff != '-'\")))\n",
    "print(len(df.query(\"model == 'bert' and diff != '-'\")))\n",
    "print()\n",
    "\n",
    "\n",
    "print(len(df.query(\"model == 'w2v' and part == 'paper'\")))\n",
    "print(len(df.query(\"model == 'ft' and part == 'paper'\")))\n",
    "print(len(df.query(\"model == 'bert' and part == 'paper'\")))\n",
    "\n",
    "\n",
    "print(\"PAPER\")\n",
    "#print(round(mean(list(df.query(\"model == 'w2v' and part == 'paper' and diff != '-'\")[\"diff\"])), 2))\n",
    "print(\"None\")\n",
    "print(len(df.query(\"model == 'ft' and part == 'paper' and diff != '-'\")))\n",
    "print(len(df.query(\"model == 'bert' and part == 'paper' and diff != '-'\")))\n",
    "print()\n",
    "\n",
    "\n",
    "print(len(df.query(\"model == 'w2v' and part == 'textbook'\")))\n",
    "print(len(df.query(\"model == 'ft' and part == 'textbook'\")))\n",
    "print(len(df.query(\"model == 'bert' and part == 'textbook'\")))\n",
    "\n",
    "\n",
    "\n",
    "print(\"TEXTBOOK\")\n",
    "print(len(df.query(\"model == 'w2v' and part == 'textbook' and diff != '-'\")))\n",
    "print(len(df.query(\"model == 'ft' and part == 'textbook' and diff != '-'\")))\n",
    "print(len(df.query(\"model == 'bert' and part == 'textbook' and diff != '-'\")))\n",
    "\n",
    "print()\n",
    "print(\"ARTICLE\")\n",
    "print(len(df.query(\"model == 'w2v' and part == 'article' and diff != '-'\")))\n",
    "print(len(df.query(\"model == 'ft' and part == 'article' and diff != '-'\")))\n",
    "#print(len(df.query(\"model == 'bert' and part == 'article' and diff != '-'\")))\n",
    "\n",
    "print(\"None\")\n"
   ]
  },
  {
   "cell_type": "markdown",
   "metadata": {
    "heading_collapsed": true
   },
   "source": [
    "# 실험 결과 유사도 분석"
   ]
  },
  {
   "cell_type": "code",
   "execution_count": 1,
   "metadata": {
    "ExecuteTime": {
     "end_time": "2021-03-09T13:30:13.281439Z",
     "start_time": "2021-03-09T13:30:13.274338Z"
    },
    "hidden": true
   },
   "outputs": [],
   "source": [
    "def tokenize_with_exclusions(text, len_dict, mecab, ran=(3, 10), with_pos=False):\n",
    "    import re\n",
    "    \n",
    "    ran = list(range(ran[0], ran[1]+1))\n",
    "    tmp={}\n",
    "    for l in len_dict:\n",
    "        if l in ran:\n",
    "            tmp[l] = len_dict[l]    \n",
    "    len_dict = tmp\n",
    "    len_dict = dict(sorted(len_dict.items(), reverse=True))\n",
    "    candids=[]\n",
    "    for l, words in len_dict.items():\n",
    "        for word in words:\n",
    "            if re.search(word, text) and re.search(word, text).group() != \"\":\n",
    "                candids.append((l, word))\n",
    "    candids = iter(candids)\n",
    "    text = [(text, 0)]\n",
    "    \n",
    "    while True:\n",
    "        try:\n",
    "            l, term = next(candids)\n",
    "            splited=[]\n",
    "            for token, identifier in text:\n",
    "                if identifier == 0:\n",
    "                    if re.search(term, token) and re.search(term, token).group() != \"\":\n",
    "                        splited.extend([(t, 1) if t == term else (t, 0) for t in re.split(\"({})\".format(term), token)])\n",
    "                    else:\n",
    "                        splited.append((token, 0))\n",
    "                elif identifier == 1: \n",
    "                    splited.append((token, 1))\n",
    "            text = splited\n",
    "        except StopIteration:\n",
    "            final=[]\n",
    "            for token, identifier in text:\n",
    "                if identifier == 0:\n",
    "                    if with_pos:\n",
    "                        final.extend(mecab.pos(token))\n",
    "                    else:\n",
    "                        final.extend(mecab.morphs(token))\n",
    "                else:\n",
    "                    if with_pos:\n",
    "                        final.append((token, \"SPECIAL\"))\n",
    "                    else:\n",
    "                        final.append(token)\n",
    "            break\n",
    "    return final"
   ]
  },
  {
   "cell_type": "code",
   "execution_count": 6,
   "metadata": {
    "ExecuteTime": {
     "end_time": "2021-03-09T01:52:31.890258Z",
     "start_time": "2021-03-09T01:51:44.472657Z"
    },
    "hidden": true
   },
   "outputs": [
    {
     "data": {
      "text/plain": [
       "6418590"
      ]
     },
     "execution_count": 6,
     "metadata": {},
     "output_type": "execute_result"
    }
   ],
   "source": [
    "import pickle\n",
    "corpus_morphed = pickle.load(open(\"./models/whole_morphed_vocab10571.pkl\", \"rb\"))\n",
    "len(corpus_morphed)"
   ]
  },
  {
   "cell_type": "markdown",
   "metadata": {
    "ExecuteTime": {
     "end_time": "2021-03-09T01:05:22.562998Z",
     "start_time": "2021-03-09T01:05:22.557363Z"
    },
    "heading_collapsed": true
   },
   "source": [
    "# 단어장 추가"
   ]
  },
  {
   "cell_type": "code",
   "execution_count": 9,
   "metadata": {
    "ExecuteTime": {
     "end_time": "2021-03-09T01:53:45.434195Z",
     "start_time": "2021-03-09T01:53:05.668278Z"
    },
    "hidden": true
   },
   "outputs": [
    {
     "data": {
      "application/vnd.jupyter.widget-view+json": {
       "model_id": "9617c88bd692480baf6eccc7ce38e07a",
       "version_major": 2,
       "version_minor": 0
      },
      "text/plain": [
       "HBox(children=(HTML(value=''), FloatProgress(value=0.0, max=6418590.0), HTML(value='')))"
      ]
     },
     "metadata": {},
     "output_type": "display_data"
    },
    {
     "name": "stdout",
     "output_type": "stream",
     "text": [
      "\n"
     ]
    }
   ],
   "source": [
    "from seongtae_utils import tokenize_with_exclusions\n",
    "from eunjeon import Mecab\n",
    "\n",
    "mecab = Mecab()\n",
    "\n",
    "terms = [\"관상동맥질환\", \"암성통증\", \"안면부종\", \"아데포비어\", \"흉부통증\", \"B형간염\", \"더부룩함\", \"세트리진\", \"페그인터페론\", \"로슈바스타틴\"]\n",
    "\n",
    "from tqdm.notebook import tqdm\n",
    "indices=[]\n",
    "for i, sent in enumerate(tqdm(corpus_morphed)):\n",
    "    for t in terms:\n",
    "        if t in \"\".join(sent):\n",
    "            indices.append(i)\n",
    "            corpus_morphed[i] = tokenize_with_exclusions(\"\".join(sent), terms, mecab, ran=(4, 6))\n"
   ]
  },
  {
   "cell_type": "markdown",
   "metadata": {
    "heading_collapsed": true
   },
   "source": [
    "# 단어 출현 검색 1. 토큰 2. 문장내 String"
   ]
  },
  {
   "cell_type": "code",
   "execution_count": 10,
   "metadata": {
    "ExecuteTime": {
     "end_time": "2021-03-09T01:55:24.936469Z",
     "start_time": "2021-03-09T01:55:15.498758Z"
    },
    "hidden": true,
    "scrolled": false
   },
   "outputs": [
    {
     "data": {
      "application/vnd.jupyter.widget-view+json": {
       "model_id": "9202f494804f451895b529fc414d8bbf",
       "version_major": 2,
       "version_minor": 0
      },
      "text/plain": [
       "HBox(children=(HTML(value=''), FloatProgress(value=0.0, max=6418590.0), HTML(value='')))"
      ]
     },
     "metadata": {},
     "output_type": "display_data"
    },
    {
     "name": "stdout",
     "output_type": "stream",
     "text": [
      "\n",
      "\n",
      "4,004\n",
      "4,004\n"
     ]
    }
   ],
   "source": [
    "from tqdm.notebook import tqdm\n",
    "\n",
    "cnt=0\n",
    "cnt2=0\n",
    "for i, sent in enumerate(tqdm(corpus_morphed)):\n",
    "    w = \"관상동맥질환\"\n",
    "    if w in sent:\n",
    "        cnt+=1\n",
    "    if w in \"\".join(sent):\n",
    "#        print(i, end=\" \")\n",
    "        cnt2+=1\n",
    "print()\n",
    "print(\"{:,}\".format(cnt))\n",
    "print(\"{:,}\".format(cnt2))"
   ]
  },
  {
   "cell_type": "markdown",
   "metadata": {
    "heading_collapsed": true
   },
   "source": [
    "# W2V 출현"
   ]
  },
  {
   "cell_type": "code",
   "execution_count": 12,
   "metadata": {
    "ExecuteTime": {
     "end_time": "2021-03-09T02:32:21.031968Z",
     "start_time": "2021-03-09T02:05:15.703282Z"
    },
    "hidden": true,
    "scrolled": true
   },
   "outputs": [],
   "source": [
    "from gensim.models import Word2Vec\n",
    "w2v = Word2Vec(corpus_morphed, size=300, negative=10, min_count=10, window=5)"
   ]
  },
  {
   "cell_type": "code",
   "execution_count": 13,
   "metadata": {
    "ExecuteTime": {
     "end_time": "2021-03-09T02:32:21.690188Z",
     "start_time": "2021-03-09T02:32:21.036480Z"
    },
    "hidden": true
   },
   "outputs": [],
   "source": [
    "pickle.dump(w2v, open(\"./models/kumc_vocab10571.w2v\", \"wb\"))"
   ]
  },
  {
   "cell_type": "code",
   "execution_count": 2,
   "metadata": {
    "ExecuteTime": {
     "end_time": "2021-03-09T13:30:38.700745Z",
     "start_time": "2021-03-09T13:30:35.135730Z"
    },
    "hidden": true
   },
   "outputs": [],
   "source": [
    "import pickle\n",
    "#w2v = pickle.load(open(\"./models/kumc_vocab10571.w2v\", \"rb\"))\n",
    "ft = pickle.load(open(\"./models/kumc_vocab10571.ft\", \"rb\"))"
   ]
  },
  {
   "cell_type": "code",
   "execution_count": 3,
   "metadata": {
    "ExecuteTime": {
     "end_time": "2021-03-09T13:30:38.706014Z",
     "start_time": "2021-03-09T13:30:38.701923Z"
    },
    "hidden": true
   },
   "outputs": [],
   "source": [
    "term1=[\"심혈관질환\", \"난소암\", \"치아우식증\", \"가려움증\", \"암성통증\", \"안면부종\", \"라니티딘\", \"암로디핀\", \"프레드니솔론\",\"위궤양\", \"심근경색\", \"B형간염\", \"더부룩함\", \"발열\", \"이미페넴\", \"지방간\", \"대장암\", \"대상포진\", \"재채기\", \"구강건조증\", \"리바비린\", \"유방암\", \"아토피피부염\", \"백반증\", \"좌골신경통\", \"졸리움\", \"반코마이신\"]\n",
    "term2=[\"관상동맥질환\", \"자궁경부암\", \"림프종\", \"소양증\", \"월경통\", \"탈모증\", \"파모티딘\", \"다이크로짇\", \"아데포비어\", \"십이지장궤양\", \"흉부통증\", \"라미부딘\", \"소화불량\", \"이부프로펜\", \"메로페넴\", \"간경변\", \"혈변\", \"트라마돌\", \"호흡곤란\", \"세트리진\", \"페그인터페론\", \"대동맥류\", \"기침\", \"라미실\", \"간성혼수\", \"와파린\", \"로슈바스타틴\"]"
   ]
  },
  {
   "cell_type": "code",
   "execution_count": 4,
   "metadata": {
    "ExecuteTime": {
     "end_time": "2021-03-09T13:31:05.300816Z",
     "start_time": "2021-03-09T13:31:05.048134Z"
    },
    "hidden": true,
    "scrolled": true
   },
   "outputs": [
    {
     "name": "stdout",
     "output_type": "stream",
     "text": [
      "심혈관질환 관상동맥질환\n",
      "난소암 자궁경부암\n",
      "치아우식증 림프종\n",
      "가려움증 소양증\n",
      "암성통증 월경통\n",
      "안면부종 탈모증\n",
      "라니티딘 파모티딘\n",
      "암로디핀 다이크로짇\n",
      "프레드니솔론 아데포비어\n",
      "위궤양 십이지장궤양\n",
      "심근경색 흉부통증\n",
      "B형간염 라미부딘\n",
      "더부룩함 소화불량\n",
      "발열 이부프로펜\n",
      "이미페넴 메로페넴\n",
      "지방간 간경변\n",
      "대장암 혈변\n",
      "대상포진 트라마돌\n",
      "재채기 호흡곤란\n",
      "구강건조증 세트리진\n",
      "리바비린 페그인터페론\n",
      "유방암 대동맥류\n",
      "아토피피부염 기침\n",
      "백반증 라미실\n",
      "좌골신경통 간성혼수\n",
      "졸리움 와파린\n",
      "반코마이신 로슈바스타틴\n"
     ]
    }
   ],
   "source": [
    "from sklearn.metrics.pairwise import cosine_similarity as cossim\n",
    "from eunjeon import Mecab\n",
    "import numpy as np\n",
    "mecab = Mecab()\n",
    "\n",
    "name=\"실험_cossim_vocab10571(ft).tsv\"\n",
    "open(\"./similarity/{}\".format(name), \"w\")\n",
    "for t1, t2 in zip(term1, term2):\n",
    "    try:\n",
    "        print(t1, t2)\n",
    "        term_1 = np.array([ft.wv.get_vector(t1)])\n",
    "        term_2 = np.array([ft.wv.get_vector(t2)])\n",
    "        sim = str(round(cossim(term_1, term_2)[0][0], 2))\n",
    "    except KeyError:\n",
    "        sim = \"NaN\"\n",
    "    open(\"./similarity/{}\".format(name), \"a\").write(t1+\"\\t\"+t2+\"\\t\"+sim+\"\\n\")\n"
   ]
  },
  {
   "cell_type": "code",
   "execution_count": 39,
   "metadata": {
    "ExecuteTime": {
     "end_time": "2021-03-06T10:55:55.045548Z",
     "start_time": "2021-03-06T10:55:55.040860Z"
    },
    "hidden": true,
    "scrolled": true
   },
   "outputs": [
    {
     "name": "stdout",
     "output_type": "stream",
     "text": [
      "0.53\n"
     ]
    }
   ],
   "source": [
    "term_1 = np.array([w2v.wv.get_vector(\"해열\")])\n",
    "term_2 = np.array([w2v.wv.get_vector(\"이부프로펜\")])\n",
    "sim = str(round(cossim(term_1, term_2)[0][0], 2))\n",
    "print(sim)"
   ]
  },
  {
   "cell_type": "code",
   "execution_count": 11,
   "metadata": {
    "ExecuteTime": {
     "end_time": "2021-03-09T01:59:47.310529Z",
     "start_time": "2021-03-09T01:55:36.145700Z"
    },
    "hidden": true
   },
   "outputs": [],
   "source": [
    "pickle.dump(corpus_morphed, open(\"./models/whole_morphed_vocab10571(2).pkl\", \"wb\"))"
   ]
  },
  {
   "cell_type": "markdown",
   "metadata": {},
   "source": [
    "# Vocab Similarity comparisons(607 / 1586)"
   ]
  },
  {
   "cell_type": "code",
   "execution_count": 1,
   "metadata": {
    "ExecuteTime": {
     "end_time": "2021-03-16T02:57:07.964329Z",
     "start_time": "2021-03-16T02:56:58.593238Z"
    }
   },
   "outputs": [],
   "source": [
    "import pickle\n",
    "\n",
    "namu_w2v = pickle.load(open(\"./models/namu_w2v.pkl\", \"rb\"))\n",
    "namu_ft = pickle.load(open(\"./models/namu_ft.pkl\", \"rb\"))\n",
    "kumc_no_vocab_w2v = pickle.load(open(\"./models/kumc_no_vocab.w2v\", \"rb\"))\n",
    "kumc_no_vocab_ft = pickle.load(open(\"./models/kumc_no_vocab.ft\", \"rb\"))\n",
    "kumc_vocab_10571_w2v = pickle.load(open(\"./models/kumc_vocab10571.w2v\", \"rb\"))\n",
    "kumc_vocab_10571_ft = pickle.load(open(\"./models/kumc_vocab10571.ft\", \"rb\"))"
   ]
  },
  {
   "cell_type": "code",
   "execution_count": 2,
   "metadata": {
    "ExecuteTime": {
     "end_time": "2021-03-16T02:57:07.967537Z",
     "start_time": "2021-03-16T02:57:07.965540Z"
    }
   },
   "outputs": [],
   "source": [
    "models={\"namu_w2v\":namu_w2v, \"namu_ft\":namu_ft,\n",
    "        \"kumc_w2v\":kumc_no_vocab_w2v, \"kumc_ft\":kumc_no_vocab_ft,\n",
    "        \"kumc_vocab_w2v\":kumc_vocab_10571_w2v, \"kumc_vocab_ft\":kumc_vocab_10571_ft}"
   ]
  },
  {
   "cell_type": "code",
   "execution_count": 5,
   "metadata": {
    "ExecuteTime": {
     "end_time": "2021-03-10T02:20:16.305906Z",
     "start_time": "2021-03-10T02:20:16.293765Z"
    }
   },
   "outputs": [
    {
     "data": {
      "text/html": [
       "<div>\n",
       "<style scoped>\n",
       "    .dataframe tbody tr th:only-of-type {\n",
       "        vertical-align: middle;\n",
       "    }\n",
       "\n",
       "    .dataframe tbody tr th {\n",
       "        vertical-align: top;\n",
       "    }\n",
       "\n",
       "    .dataframe thead th {\n",
       "        text-align: right;\n",
       "    }\n",
       "</style>\n",
       "<table border=\"1\" class=\"dataframe\">\n",
       "  <thead>\n",
       "    <tr style=\"text-align: right;\">\n",
       "      <th></th>\n",
       "      <th>IDX</th>\n",
       "      <th>INPUT1</th>\n",
       "      <th>INPUT2</th>\n",
       "    </tr>\n",
       "  </thead>\n",
       "  <tbody>\n",
       "    <tr>\n",
       "      <th>0</th>\n",
       "      <td>1</td>\n",
       "      <td>메르스</td>\n",
       "      <td>중동호흡기증후군</td>\n",
       "    </tr>\n",
       "    <tr>\n",
       "      <th>1</th>\n",
       "      <td>2</td>\n",
       "      <td>포비돈</td>\n",
       "      <td>베타딘</td>\n",
       "    </tr>\n",
       "    <tr>\n",
       "      <th>2</th>\n",
       "      <td>3</td>\n",
       "      <td>아픽사반</td>\n",
       "      <td>항혈전제</td>\n",
       "    </tr>\n",
       "    <tr>\n",
       "      <th>3</th>\n",
       "      <td>4</td>\n",
       "      <td>진해제</td>\n",
       "      <td>코데인</td>\n",
       "    </tr>\n",
       "    <tr>\n",
       "      <th>4</th>\n",
       "      <td>5</td>\n",
       "      <td>발진티푸스</td>\n",
       "      <td>장티푸스</td>\n",
       "    </tr>\n",
       "    <tr>\n",
       "      <th>...</th>\n",
       "      <td>...</td>\n",
       "      <td>...</td>\n",
       "      <td>...</td>\n",
       "    </tr>\n",
       "    <tr>\n",
       "      <th>602</th>\n",
       "      <td>603</td>\n",
       "      <td>기미</td>\n",
       "      <td>습진</td>\n",
       "    </tr>\n",
       "    <tr>\n",
       "      <th>603</th>\n",
       "      <td>604</td>\n",
       "      <td>척수공동증</td>\n",
       "      <td>아밀로이드증</td>\n",
       "    </tr>\n",
       "    <tr>\n",
       "      <th>604</th>\n",
       "      <td>605</td>\n",
       "      <td>동정맥기형</td>\n",
       "      <td>대동맥박리</td>\n",
       "    </tr>\n",
       "    <tr>\n",
       "      <th>605</th>\n",
       "      <td>606</td>\n",
       "      <td>종괴</td>\n",
       "      <td>난소절제</td>\n",
       "    </tr>\n",
       "    <tr>\n",
       "      <th>606</th>\n",
       "      <td>607</td>\n",
       "      <td>코골이</td>\n",
       "      <td>관절조영</td>\n",
       "    </tr>\n",
       "  </tbody>\n",
       "</table>\n",
       "<p>607 rows × 3 columns</p>\n",
       "</div>"
      ],
      "text/plain": [
       "     IDX INPUT1    INPUT2\n",
       "0      1    메르스  중동호흡기증후군\n",
       "1      2    포비돈       베타딘\n",
       "2      3   아픽사반      항혈전제\n",
       "3      4    진해제       코데인\n",
       "4      5  발진티푸스      장티푸스\n",
       "..   ...    ...       ...\n",
       "602  603     기미        습진\n",
       "603  604  척수공동증    아밀로이드증\n",
       "604  605  동정맥기형     대동맥박리\n",
       "605  606     종괴      난소절제\n",
       "606  607    코골이      관절조영\n",
       "\n",
       "[607 rows x 3 columns]"
      ]
     },
     "execution_count": 5,
     "metadata": {},
     "output_type": "execute_result"
    }
   ],
   "source": [
    "# words_607\n",
    "import pandas as pd\n",
    "words_607 = pd.read_csv(\"./similarity/words_607.tsv\", delimiter=\"\\t\")\n",
    "words_607"
   ]
  },
  {
   "cell_type": "code",
   "execution_count": 4,
   "metadata": {
    "ExecuteTime": {
     "end_time": "2021-03-16T02:58:08.512341Z",
     "start_time": "2021-03-16T02:58:08.439425Z"
    },
    "scrolled": true
   },
   "outputs": [
    {
     "data": {
      "text/html": [
       "<div>\n",
       "<style scoped>\n",
       "    .dataframe tbody tr th:only-of-type {\n",
       "        vertical-align: middle;\n",
       "    }\n",
       "\n",
       "    .dataframe tbody tr th {\n",
       "        vertical-align: top;\n",
       "    }\n",
       "\n",
       "    .dataframe thead th {\n",
       "        text-align: right;\n",
       "    }\n",
       "</style>\n",
       "<table border=\"1\" class=\"dataframe\">\n",
       "  <thead>\n",
       "    <tr style=\"text-align: right;\">\n",
       "      <th></th>\n",
       "      <th>IDX</th>\n",
       "      <th>TYPE</th>\n",
       "      <th>INPUT1</th>\n",
       "      <th>INPUT2</th>\n",
       "    </tr>\n",
       "  </thead>\n",
       "  <tbody>\n",
       "    <tr>\n",
       "      <th>0</th>\n",
       "      <td>1</td>\n",
       "      <td>UMN-Sim</td>\n",
       "      <td>세동</td>\n",
       "      <td>녹내장</td>\n",
       "    </tr>\n",
       "    <tr>\n",
       "      <th>1</th>\n",
       "      <td>3</td>\n",
       "      <td>UMN-Sim</td>\n",
       "      <td>타이레놀</td>\n",
       "      <td>심근 병증</td>\n",
       "    </tr>\n",
       "    <tr>\n",
       "      <th>2</th>\n",
       "      <td>4</td>\n",
       "      <td>UMN-Sim</td>\n",
       "      <td>갑상선 기능 항진증</td>\n",
       "      <td>수포진</td>\n",
       "    </tr>\n",
       "    <tr>\n",
       "      <th>3</th>\n",
       "      <td>5</td>\n",
       "      <td>UMN-Sim</td>\n",
       "      <td>구역질</td>\n",
       "      <td>뱃멀미</td>\n",
       "    </tr>\n",
       "    <tr>\n",
       "      <th>4</th>\n",
       "      <td>6</td>\n",
       "      <td>UMN-Sim</td>\n",
       "      <td>히스토플라스마증</td>\n",
       "      <td>콕시디오이데스진균증</td>\n",
       "    </tr>\n",
       "    <tr>\n",
       "      <th>...</th>\n",
       "      <td>...</td>\n",
       "      <td>...</td>\n",
       "      <td>...</td>\n",
       "      <td>...</td>\n",
       "    </tr>\n",
       "    <tr>\n",
       "      <th>957</th>\n",
       "      <td>1578</td>\n",
       "      <td>UMN-Rel</td>\n",
       "      <td>아밀로이드증</td>\n",
       "      <td>관절염</td>\n",
       "    </tr>\n",
       "    <tr>\n",
       "      <th>958</th>\n",
       "      <td>1582</td>\n",
       "      <td>UMN-Rel</td>\n",
       "      <td>허혈</td>\n",
       "      <td>간질</td>\n",
       "    </tr>\n",
       "    <tr>\n",
       "      <th>959</th>\n",
       "      <td>1583</td>\n",
       "      <td>UMN-Rel</td>\n",
       "      <td>구역질</td>\n",
       "      <td>차멀미</td>\n",
       "    </tr>\n",
       "    <tr>\n",
       "      <th>960</th>\n",
       "      <td>1584</td>\n",
       "      <td>UMN-Rel</td>\n",
       "      <td>페스트</td>\n",
       "      <td>인수공통감염병</td>\n",
       "    </tr>\n",
       "    <tr>\n",
       "      <th>961</th>\n",
       "      <td>1586</td>\n",
       "      <td>UMN-Rel</td>\n",
       "      <td>리스테리아병</td>\n",
       "      <td>자연유산</td>\n",
       "    </tr>\n",
       "  </tbody>\n",
       "</table>\n",
       "<p>962 rows × 4 columns</p>\n",
       "</div>"
      ],
      "text/plain": [
       "      IDX     TYPE      INPUT1      INPUT2\n",
       "0       1  UMN-Sim          세동         녹내장\n",
       "1       3  UMN-Sim        타이레놀       심근 병증\n",
       "2       4  UMN-Sim  갑상선 기능 항진증         수포진\n",
       "3       5  UMN-Sim         구역질         뱃멀미\n",
       "4       6  UMN-Sim    히스토플라스마증  콕시디오이데스진균증\n",
       "..    ...      ...         ...         ...\n",
       "957  1578  UMN-Rel      아밀로이드증         관절염\n",
       "958  1582  UMN-Rel          허혈          간질\n",
       "959  1583  UMN-Rel         구역질         차멀미\n",
       "960  1584  UMN-Rel         페스트     인수공통감염병\n",
       "961  1586  UMN-Rel      리스테리아병        자연유산\n",
       "\n",
       "[962 rows x 4 columns]"
      ]
     },
     "execution_count": 4,
     "metadata": {},
     "output_type": "execute_result"
    }
   ],
   "source": [
    "import pandas as pd\n",
    "words_1586 = pd.read_excel(\"./similarity/translation_word_pairs_1586.xlsx\")\n",
    "words_1586"
   ]
  },
  {
   "cell_type": "code",
   "execution_count": 5,
   "metadata": {
    "ExecuteTime": {
     "end_time": "2021-03-16T02:58:44.312036Z",
     "start_time": "2021-03-16T02:58:44.310125Z"
    }
   },
   "outputs": [],
   "source": [
    "#target_df = words_607\n",
    "target_df = words_1586"
   ]
  },
  {
   "cell_type": "code",
   "execution_count": 7,
   "metadata": {
    "ExecuteTime": {
     "end_time": "2021-03-16T02:59:36.385872Z",
     "start_time": "2021-03-16T02:59:35.302476Z"
    }
   },
   "outputs": [
    {
     "data": {
      "application/vnd.jupyter.widget-view+json": {
       "model_id": "52e45c27cf1049618e4a9dd799510728",
       "version_major": 2,
       "version_minor": 0
      },
      "text/plain": [
       "HBox(children=(HTML(value=''), FloatProgress(value=1.0, bar_style='info', layout=Layout(width='20px'), max=1.0…"
      ]
     },
     "metadata": {},
     "output_type": "display_data"
    },
    {
     "name": "stdout",
     "output_type": "stream",
     "text": [
      "\n",
      "\n"
     ]
    }
   ],
   "source": [
    "from sklearn.metrics.pairwise import cosine_similarity as cossim\n",
    "from tqdm.notebook import tqdm\n",
    "import numpy as np\n",
    "\n",
    "output={}\n",
    "\n",
    "for i, row in tqdm(target_df.iterrows()):\n",
    "    term1 = row['INPUT1']\n",
    "    term2 = row['INPUT2']\n",
    "    for model_name in models:\n",
    "        try:\n",
    "            v1 = np.array([models[model_name].wv.get_vector(term1)])\n",
    "            v2 = np.array([models[model_name].wv.get_vector(term2)])\n",
    "        except KeyError:\n",
    "            v1 = None\n",
    "            v2 = None\n",
    "        \n",
    "        if v1 is not None and v2 is not None:\n",
    "            sim = str(round(cossim(v1, v2)[0][0], 2))\n",
    "            if model_name not in output:\n",
    "                output[model_name] = [sim]\n",
    "            else:\n",
    "                output[model_name].append(sim)\n",
    "        \n",
    "        else:\n",
    "            if model_name not in output:\n",
    "                output[model_name] = [None]\n",
    "            else:\n",
    "                output[model_name].append(None)"
   ]
  },
  {
   "cell_type": "code",
   "execution_count": 8,
   "metadata": {
    "ExecuteTime": {
     "end_time": "2021-03-16T02:59:39.921839Z",
     "start_time": "2021-03-16T02:59:39.916854Z"
    }
   },
   "outputs": [],
   "source": [
    "for name in output:\n",
    "    target_df[name] = output[name]"
   ]
  },
  {
   "cell_type": "code",
   "execution_count": 9,
   "metadata": {
    "ExecuteTime": {
     "end_time": "2021-03-16T02:59:43.676992Z",
     "start_time": "2021-03-16T02:59:43.637162Z"
    }
   },
   "outputs": [
    {
     "data": {
      "text/html": [
       "<div>\n",
       "<style scoped>\n",
       "    .dataframe tbody tr th:only-of-type {\n",
       "        vertical-align: middle;\n",
       "    }\n",
       "\n",
       "    .dataframe tbody tr th {\n",
       "        vertical-align: top;\n",
       "    }\n",
       "\n",
       "    .dataframe thead th {\n",
       "        text-align: right;\n",
       "    }\n",
       "</style>\n",
       "<table border=\"1\" class=\"dataframe\">\n",
       "  <thead>\n",
       "    <tr style=\"text-align: right;\">\n",
       "      <th></th>\n",
       "      <th>IDX</th>\n",
       "      <th>TYPE</th>\n",
       "      <th>INPUT1</th>\n",
       "      <th>INPUT2</th>\n",
       "      <th>namu_w2v</th>\n",
       "      <th>namu_ft</th>\n",
       "      <th>kumc_w2v</th>\n",
       "      <th>kumc_ft</th>\n",
       "      <th>kumc_vocab_w2v</th>\n",
       "      <th>kumc_vocab_ft</th>\n",
       "    </tr>\n",
       "  </thead>\n",
       "  <tbody>\n",
       "    <tr>\n",
       "      <th>0</th>\n",
       "      <td>1</td>\n",
       "      <td>UMN-Sim</td>\n",
       "      <td>세동</td>\n",
       "      <td>녹내장</td>\n",
       "      <td>None</td>\n",
       "      <td>0.03</td>\n",
       "      <td>0.19</td>\n",
       "      <td>0.2</td>\n",
       "      <td>0.22</td>\n",
       "      <td>0.29</td>\n",
       "    </tr>\n",
       "    <tr>\n",
       "      <th>1</th>\n",
       "      <td>3</td>\n",
       "      <td>UMN-Sim</td>\n",
       "      <td>타이레놀</td>\n",
       "      <td>심근 병증</td>\n",
       "      <td>None</td>\n",
       "      <td>0.03</td>\n",
       "      <td>None</td>\n",
       "      <td>0.07</td>\n",
       "      <td>None</td>\n",
       "      <td>0.07</td>\n",
       "    </tr>\n",
       "    <tr>\n",
       "      <th>2</th>\n",
       "      <td>4</td>\n",
       "      <td>UMN-Sim</td>\n",
       "      <td>갑상선 기능 항진증</td>\n",
       "      <td>수포진</td>\n",
       "      <td>None</td>\n",
       "      <td>-0.08</td>\n",
       "      <td>None</td>\n",
       "      <td>0.28</td>\n",
       "      <td>None</td>\n",
       "      <td>0.32</td>\n",
       "    </tr>\n",
       "    <tr>\n",
       "      <th>3</th>\n",
       "      <td>5</td>\n",
       "      <td>UMN-Sim</td>\n",
       "      <td>구역질</td>\n",
       "      <td>뱃멀미</td>\n",
       "      <td>None</td>\n",
       "      <td>-0.07</td>\n",
       "      <td>None</td>\n",
       "      <td>0.18</td>\n",
       "      <td>None</td>\n",
       "      <td>0.23</td>\n",
       "    </tr>\n",
       "    <tr>\n",
       "      <th>4</th>\n",
       "      <td>6</td>\n",
       "      <td>UMN-Sim</td>\n",
       "      <td>히스토플라스마증</td>\n",
       "      <td>콕시디오이데스진균증</td>\n",
       "      <td>None</td>\n",
       "      <td>0.07</td>\n",
       "      <td>None</td>\n",
       "      <td>0.13</td>\n",
       "      <td>0.59</td>\n",
       "      <td>0.52</td>\n",
       "    </tr>\n",
       "    <tr>\n",
       "      <th>...</th>\n",
       "      <td>...</td>\n",
       "      <td>...</td>\n",
       "      <td>...</td>\n",
       "      <td>...</td>\n",
       "      <td>...</td>\n",
       "      <td>...</td>\n",
       "      <td>...</td>\n",
       "      <td>...</td>\n",
       "      <td>...</td>\n",
       "      <td>...</td>\n",
       "    </tr>\n",
       "    <tr>\n",
       "      <th>957</th>\n",
       "      <td>1578</td>\n",
       "      <td>UMN-Rel</td>\n",
       "      <td>아밀로이드증</td>\n",
       "      <td>관절염</td>\n",
       "      <td>None</td>\n",
       "      <td>0.16</td>\n",
       "      <td>0.36</td>\n",
       "      <td>0.4</td>\n",
       "      <td>0.38</td>\n",
       "      <td>0.44</td>\n",
       "    </tr>\n",
       "    <tr>\n",
       "      <th>958</th>\n",
       "      <td>1582</td>\n",
       "      <td>UMN-Rel</td>\n",
       "      <td>허혈</td>\n",
       "      <td>간질</td>\n",
       "      <td>None</td>\n",
       "      <td>0.11</td>\n",
       "      <td>0.5</td>\n",
       "      <td>0.46</td>\n",
       "      <td>0.38</td>\n",
       "      <td>0.43</td>\n",
       "    </tr>\n",
       "    <tr>\n",
       "      <th>959</th>\n",
       "      <td>1583</td>\n",
       "      <td>UMN-Rel</td>\n",
       "      <td>구역질</td>\n",
       "      <td>차멀미</td>\n",
       "      <td>None</td>\n",
       "      <td>0.0</td>\n",
       "      <td>0.41</td>\n",
       "      <td>0.21</td>\n",
       "      <td>0.14</td>\n",
       "      <td>0.32</td>\n",
       "    </tr>\n",
       "    <tr>\n",
       "      <th>960</th>\n",
       "      <td>1584</td>\n",
       "      <td>UMN-Rel</td>\n",
       "      <td>페스트</td>\n",
       "      <td>인수공통감염병</td>\n",
       "      <td>None</td>\n",
       "      <td>0.12</td>\n",
       "      <td>None</td>\n",
       "      <td>0.28</td>\n",
       "      <td>0.34</td>\n",
       "      <td>0.27</td>\n",
       "    </tr>\n",
       "    <tr>\n",
       "      <th>961</th>\n",
       "      <td>1586</td>\n",
       "      <td>UMN-Rel</td>\n",
       "      <td>리스테리아병</td>\n",
       "      <td>자연유산</td>\n",
       "      <td>None</td>\n",
       "      <td>0.09</td>\n",
       "      <td>None</td>\n",
       "      <td>0.2</td>\n",
       "      <td>None</td>\n",
       "      <td>0.23</td>\n",
       "    </tr>\n",
       "  </tbody>\n",
       "</table>\n",
       "<p>962 rows × 10 columns</p>\n",
       "</div>"
      ],
      "text/plain": [
       "      IDX     TYPE      INPUT1      INPUT2 namu_w2v namu_ft kumc_w2v kumc_ft  \\\n",
       "0       1  UMN-Sim          세동         녹내장     None    0.03     0.19     0.2   \n",
       "1       3  UMN-Sim        타이레놀       심근 병증     None    0.03     None    0.07   \n",
       "2       4  UMN-Sim  갑상선 기능 항진증         수포진     None   -0.08     None    0.28   \n",
       "3       5  UMN-Sim         구역질         뱃멀미     None   -0.07     None    0.18   \n",
       "4       6  UMN-Sim    히스토플라스마증  콕시디오이데스진균증     None    0.07     None    0.13   \n",
       "..    ...      ...         ...         ...      ...     ...      ...     ...   \n",
       "957  1578  UMN-Rel      아밀로이드증         관절염     None    0.16     0.36     0.4   \n",
       "958  1582  UMN-Rel          허혈          간질     None    0.11      0.5    0.46   \n",
       "959  1583  UMN-Rel         구역질         차멀미     None     0.0     0.41    0.21   \n",
       "960  1584  UMN-Rel         페스트     인수공통감염병     None    0.12     None    0.28   \n",
       "961  1586  UMN-Rel      리스테리아병        자연유산     None    0.09     None     0.2   \n",
       "\n",
       "    kumc_vocab_w2v kumc_vocab_ft  \n",
       "0             0.22          0.29  \n",
       "1             None          0.07  \n",
       "2             None          0.32  \n",
       "3             None          0.23  \n",
       "4             0.59          0.52  \n",
       "..             ...           ...  \n",
       "957           0.38          0.44  \n",
       "958           0.38          0.43  \n",
       "959           0.14          0.32  \n",
       "960           0.34          0.27  \n",
       "961           None          0.23  \n",
       "\n",
       "[962 rows x 10 columns]"
      ]
     },
     "execution_count": 9,
     "metadata": {},
     "output_type": "execute_result"
    }
   ],
   "source": [
    "target_df"
   ]
  },
  {
   "cell_type": "code",
   "execution_count": 20,
   "metadata": {
    "ExecuteTime": {
     "end_time": "2021-03-16T03:10:17.680170Z",
     "start_time": "2021-03-16T03:10:17.672534Z"
    }
   },
   "outputs": [
    {
     "name": "stdout",
     "output_type": "stream",
     "text": [
      "cnt: 38 962 287 962 514 962\n",
      "perc: 3.95 100.0 29.83 100.0 53.43 100.0\n"
     ]
    }
   ],
   "source": [
    "total = len(target_df)\n",
    "\n",
    "namu_w2v_cnt = sum([1 for _ in list(target_df[\"namu_w2v\"]) if _ is not None])\n",
    "namu_ft_cnt = sum([1 for _ in list(target_df[\"namu_ft\"]) if _ is not None])\n",
    "kumc_w2v_cnt = sum([1 for _ in list(target_df[\"kumc_w2v\"]) if _ is not None])\n",
    "kumc_ft_cnt = sum([1 for _ in list(target_df[\"kumc_ft\"]) if _ is not None])\n",
    "kumc_vocab_w2v_cnt = sum([1 for _ in list(target_df[\"kumc_vocab_w2v\"]) if _ is not None])\n",
    "kumc_vocab_ft_cnt = sum([1 for _ in list(target_df[\"kumc_vocab_ft\"]) if _ is not None])\n",
    "\n",
    "namu_w2v_perc = round((namu_w2v_cnt / total)* 100, 2)\n",
    "namu_ft_perc = round((namu_ft_cnt / total)* 100, 2)\n",
    "kumc_w2v_perc = round((kumc_w2v_cnt / total)* 100, 2)\n",
    "kumc_ft_perc = round((kumc_ft_cnt / total)* 100, 2)\n",
    "kumc_vocab_w2v_perc = round((kumc_vocab_w2v_cnt / total)* 100, 2)\n",
    "kumc_vocab_ft_perc = round((kumc_vocab_ft_cnt / total)* 100, 2)\n",
    "\n",
    "print(\"cnt: {} {} {} {} {} {}\".format(namu_w2v_cnt, namu_ft_cnt, kumc_w2v_cnt, kumc_ft_cnt, kumc_vocab_w2v_cnt, kumc_vocab_ft_cnt))\n",
    "print(\"perc: {} {} {} {} {} {}\".format(namu_w2v_perc, namu_ft_perc, kumc_w2v_perc, kumc_ft_perc, kumc_vocab_w2v_perc, kumc_vocab_ft_perc))\n"
   ]
  },
  {
   "cell_type": "code",
   "execution_count": 21,
   "metadata": {
    "ExecuteTime": {
     "end_time": "2021-03-16T03:10:19.329754Z",
     "start_time": "2021-03-16T03:10:19.321509Z"
    }
   },
   "outputs": [
    {
     "data": {
      "text/plain": [
       "962"
      ]
     },
     "execution_count": 21,
     "metadata": {},
     "output_type": "execute_result"
    }
   ],
   "source": [
    "total"
   ]
  },
  {
   "cell_type": "code",
   "execution_count": 23,
   "metadata": {
    "ExecuteTime": {
     "end_time": "2021-03-16T03:11:09.063999Z",
     "start_time": "2021-03-16T03:11:09.047047Z"
    }
   },
   "outputs": [],
   "source": [
    "target_df.loc[total+1] = [total+1, \"Retrieval Count\", None, None,\n",
    "                  namu_w2v_cnt, namu_ft_cnt, kumc_w2v_cnt, kumc_ft_cnt, kumc_vocab_w2v_cnt, kumc_vocab_ft_cnt]\n",
    "target_df.loc[total+2] = [total+2, \"Retrieval Percent\", None, None,\n",
    "                  namu_w2v_perc, namu_ft_perc, kumc_w2v_perc, kumc_ft_perc, kumc_vocab_w2v_perc, kumc_vocab_ft_perc]"
   ]
  },
  {
   "cell_type": "code",
   "execution_count": 24,
   "metadata": {
    "ExecuteTime": {
     "end_time": "2021-03-16T03:11:11.519727Z",
     "start_time": "2021-03-16T03:11:11.416304Z"
    }
   },
   "outputs": [],
   "source": [
    "target_df.to_excel(\"./similarity/output_1586.xlsx\")"
   ]
  },
  {
   "cell_type": "markdown",
   "metadata": {},
   "source": [
    "# LSA Euclidean distance"
   ]
  },
  {
   "cell_type": "code",
   "execution_count": 25,
   "metadata": {
    "ExecuteTime": {
     "end_time": "2021-03-16T03:17:14.853260Z",
     "start_time": "2021-03-16T03:16:16.053934Z"
    }
   },
   "outputs": [],
   "source": [
    "corpus_morphed = pickle.load(open(\"./models/whole_morphed_vocab10571.pkl\", \"rb\"))"
   ]
  },
  {
   "cell_type": "code",
   "execution_count": 31,
   "metadata": {
    "ExecuteTime": {
     "end_time": "2021-03-16T03:25:38.185763Z",
     "start_time": "2021-03-16T03:25:38.170224Z"
    }
   },
   "outputs": [
    {
     "name": "stdout",
     "output_type": "stream",
     "text": [
      "10571\n"
     ]
    }
   ],
   "source": [
    "import re\n",
    "vocab= [re.sub(\"\\n\", \"\", w) for w in open(\"./vocab/kumc_vocab_we.txt\").readlines()]\n",
    "print(len(vocab))"
   ]
  },
  {
   "cell_type": "code",
   "execution_count": 35,
   "metadata": {
    "ExecuteTime": {
     "end_time": "2021-03-16T03:28:35.526596Z",
     "start_time": "2021-03-16T03:28:35.520107Z"
    }
   },
   "outputs": [
    {
     "name": "stdout",
     "output_type": "stream",
     "text": [
      "1924\n"
     ]
    }
   ],
   "source": [
    "words = list(target_df[\"INPUT1\"]) + list(target_df[\"INPUT2\"])\n",
    "words = [w for w in words if w is not None]\n",
    "print(len(words))"
   ]
  },
  {
   "cell_type": "code",
   "execution_count": 36,
   "metadata": {
    "ExecuteTime": {
     "end_time": "2021-03-16T03:28:38.125326Z",
     "start_time": "2021-03-16T03:28:38.117281Z"
    }
   },
   "outputs": [
    {
     "name": "stdout",
     "output_type": "stream",
     "text": [
      "['세동', '타이레놀', '갑상선 기능 항진증', '구역질', '히스토플라스마증', '플라빅스', '인슐린', '호흡 곤란', '실금', '에탄올', '청각과민', '구토', '암죽뇨', '에탄올', '말라리아', '당뇨병', '배고픔', '엽산', '글루카겐', '쌕쌕거림', '건선', '해쓱', '라식스', '발성불능', '암죽뇨', '수막증', '침 흘림', '간염', '초조', '글루코파지', '관절염', '곤봉지', '당뇨병', '객혈', '하이트린', '글루코파지', '바나나 백', '인슐린', '망상적혈구증식증', '카바트롤', '생선 기름', '생선 기름', '협심증', '운동 실조', '인슐린', '후각 상실증', '배란통', '아스피린', '발로', '담즙 정체', '여드름', '선염', '혈뇨', '수막염', '쿠마딘', '골다공증', '글루카겐', '혈전', '수막염', '혈전색전증', '관절통', '떨림', '카보플라틴', '헤파린', '인슐린', '그렁거림', '코레그', '불임', '페노바비탈', '알코올', '경련', '콜레스티라민', '코골이', '패혈증', '치매', '구토', '통증', '리도카인', '호흡 곤란', '수막증', '세동', '차멀미', '곤봉지', '플라빅스', '남성화', '시네메트', '발작', '췌장염', '알코올', '발작', '카보플라틴', '신경통', '프로포폴', '아테놀올', '인슐린', '인슐린', '세파클러', '변비', '호흡 곤란', '플라빅스', '리피토', '콜히친', '페니실린', '토혈', '두통', '피로', '실신', '발작', '에탄올', '철', '떨림', '웰부트린', '배란통', '알로에 베라', '싱귤레어', '로바스타틴', '쇠약', '라식스', '에리트로마이신', '알레르기', '허혈', '다뇨증', '치통', '굶주림', '간질', '다음다갈증', '굶주림', '발프로산', '비타민 B1', '쇠약', '혈색소병증', '아스피린', '카보플라틴', '수막염', '철', '반점', '바이코딘', '후궁반장', '모르핀', '편마비', '디오반', '빈혈증', '우두', '배란통', '피부염', '타이레놀', '침 흘림', '이통', '피부경화증', '에탄올', '바베스열원충증', '수포음', '아테놀올', '협심증', '토혈', '모르핀', '근병증', '씨프로', '블레오마이신', '세폭시틴', '리도카인', '불임', '졸음', '다뇨증', '코골이', '라식스', '씨프로', '이질', '토혈', '과다 수면', '떨림', '세동', '인슐린', '발작', '전립선액루', '수포음', '통증', '호흡 곤란', '흑암시', '리피토', '여윔', '심근 병증', '구역질', '심장통', '인슐린', '곤봉지', '철', '타이레놀', '인수공통감염병', '악액질', '배란통', '식욕부진', '설사', '농루', '라식스', '헤파린', '전립선증', '아스피린', '갑상선종', '실신', '다뇨증', '류마티즘', '무배란', '히스토플라스마증', '당뇨병', '영양 실조', '간질', '엽산', '안검 경련', '당뇨병', '프로토닉스', '쇠약', '로피드', '부전 마비', '씬지로이드', '편측발리즘', '씬지로이드', '무배란', '현기증', '협심증', '비타민 결핍증', '알로에 베라', '운동 실조', '암죽뇨', '변비', '리피토', '설사', '경화증', '결핵', '에탄올', '나르칸', '모르핀', '발성불능', '시네메트', '두통', '쇠약', '속쓰림', '스트렙타제', '타이레놀', '야뇨증', '두통', '두통', '심장통', '포획', '나선형의', '객혈', '제니칼', '인플루엔자', '구취증', '간비장비대', '반코신', '코골이', '씨프로', '구취증', '철', '발성불능', '관절염', '비타민 K', '치통', '배고픔', '모트린', '폐렴', '에탄올', '카르디젬', '아티반', '경화증', '메드롤', '마늘', '불면증', '고혈당증', '니트로글리세린', '세동', '쿠마딘', '변비', '콕시듐증', '과소 운동', '세파졸린', '타이레놀', '이질', '간 비대', '배고픔', '리피토', '니트로글리세린', '분아균증', '조코', '발성불능', '매독', '페니실린', '농루', '청색증', '배고픔', '액토넬', '혈색소 침착증', '백내장', '반점구진', '호흡 곤란', '간 비대', '발성불능', '속쓰림', '복막염', '콜히친', '질환', '프로포폴', '다발성 관절염', '코골이', '블레오마이신', '자연건조 갑상선 추출물', '요도루', '씬지로이드', '두통', '치통', '경련', '신장염', '지각과민', '철', '수막증', '제니칼', '골다공증', '진균증', '생선 기름', '무산소혈증', '심장통', '경련', '제니칼', '기생충혈증', '조코', '두드러기', '운동 실조', '백내장', '변비', '홍조', '구역질', '굶주림', '관절통', '협심증', '조코', '굶주림', '혼수상태', '아만타딘', '무산소혈증', '기운목', '객혈', '협심증', '피곤함', '치매', '오한', '과소 운동', '다뇨증', '토혈', '알부민', '임질', '견갑골 통증', '그렁거림', '펩시드', '스피리바', '요로 결석증', '쿠마딘', '구취증', '단백뇨', '당뇨병', '중족골통', '관절통', '세프트리악손', '리피토', '청색증', '실신', '니트로글리세린', '관절염', '아테놀올', '후각 상실증', '씬지로이드', '여윔', '칸디다증', '청각과민', '타이레놀', '중족골통', '떨림', '코골이', '청색증', '구역질', '전립선액루', '통증', '고혈당증', '여윔', '배고픔', '액티바제', '페니실린', '수막증', '글루카겐', '아테놀올', '혈관염', '바시트라신', '골다공증', '고지혈증', '창백', '프로타민 황산염', '이통', '라식스', '쿠마딘', '시네메트', '알로에 베라', '과다 수면', '케톤뇨증', '운동 실조', '수막증', '플라빅스', '조코', '에탄올', '코르티손', '변비', '전립선증', '알로에 베라', '에스 몰롤', '실바데네', '폐렴', '머리-얼굴-목-증후군', '인슐린', '매너리즘', '죽상 경화증', '근병증', '무월경', '빈혈증', '경련', '베르목스', '시네메트', '아밀로이드증', '잔탁', '허혈', '구역질', '심근 병증', '페스트', '리스테리아병', '초조', '두통', '진통 보행', '폐결절', '손톱밑선상출혈', '폴립', '모반', '문맥 고혈압', '폐부종', '요관 폐쇄', '척추관 협착증', '헤베르덴 결절', '류마티스 결절', '금기', '면역 결핍', '피부 근염', '신경병증', '빠른호흡', '객혈', '골경화증', '무릎 통증', '섬유근통', '류마티스 관절염', '편마비', '뇌신경', '연동운동', '운동저하', '심근 경색', '결핵', '암종증', '두통', '자가 면역', '손가락 허혈', '전신 경화증', '침윤성', '크론병', '악성의', '관절 침식', '액화', '결장염', '소화성 궤양', '망상', '정신병', '구강 궤양', '폐렴', '관절경 검사', '활액 삼출', '사람백혈구항원 B27', '혈전', '저혈압', '나비모양발진', '영양 실조', '사구체 여과율', '폴립', '골다공증', '석회화', '아메바증', '마비', '두통', '구강 건조증', '하지 정맥류', '계단 오르기', '지방종', '승모판', '헤모글로빈', '삼킴', '배란', '알레르기', '줄기 세포', '산성 인산분해효소', '골관절염', '자기공명영상', '주사기', '우울증', '류마티스 결절', '루푸스', '결장암', '굴모양혈관', '가스트린', '정신병', '후두암', '여드름', '정맥류 궤양', '접합부 리듬', '소화성 궤양', '봉와직염', '상처 압박', '알코올성 간경화', '조기 진통', '폐색전증', '제 2 형 당뇨병', '구강 건조증', '욕창 궤양', '근육통', '구취증', '신장결석증', '염전성 심실 빈맥', '충수염', '폐포염', '골다공증', '타이레놀', '히스토플라스마증', '플라빅스', '죽상 경화증', '부진', '실금', '매너리즘', '구토', '암죽뇨', '에탄올', '말라리아', '당뇨병', '배고픔', '글루카겐', '프로토닉스', '간질', '쌕쌕거림', '건선', '해쓱', '라식스', '발성불능', '암죽뇨', '수막증', '침 흘림', '관절염', '곤봉지', '당뇨병', '건선', '찡그림', '철', '수막증', '갑상선 기능 항진증', '당뇨병', '객혈', '글루코파지', '카바트롤', '니트로글리세린', '인슐린', '망상적혈구증식증', '카바트롤', '생선 기름', '생선 기름', '객혈', '협심증', '인슐린', '아스피린', '담즙 정체', '쇠약', '콜레스티라민', '여드름', '선염', '혈뇨', '탈장', '백혈구 감소증', '헤파린', '수막염', '골다공증', '혈전', '허혈', '혈전', '좌골 신경통', '수막염', '떨림', '헤파린', '인슐린', '그렁거림', '불임', '알코올', '악액질', '패혈증', '간비장비대', '치매', '호흡 곤란', '수막증', '세동', '차멀미', '곤봉지', '혈전색전증', '눈통증', '플라빅스', '남성화', '실바데네', '발작', '췌장염', '알코올', '발작', '카보플라틴', '코데인', '알로에 베라', '인슐린', '인슐린', '호흡 곤란', '플라빅스', '리피토', '콜히친', '페니실린', '토혈', '두통', '속쓰림', '피로', '실신', '발작', '에탄올', '철', '떨림', '좌골 신경통', '배란통', '알로에 베라', '싱귤레어', '로바스타틴', '쇠약', '라식스', '에리트로마이신', '알레르기', '허혈', '다뇨증', '치통', '굶주림', '간질', '다음다갈증', '굶주림', '비타민 B1', '쇠약', '혈색소병증', '수막염', '철', '반점', '아데노신', '프레드니솔론', '세프트리악손', '모르핀', '골수 억제', '객혈', '편마비', '빈혈증', '배란통', '타이레놀', '이통', '피부경화증', '에탄올', '바베스열원충증', '나병', '수포음', '협심증', '토혈', '모르핀', '초경', '콜히친', '근병증', '씨프로', '케톤뇨증', '위장염', '세폭시틴', '졸음', '속쓰림', '다뇨증', '리피토', '코골이', '씨프로', '수막증', '이질', '토혈', '과다 수면', '떨림', '리소비드', '인슐린', '전립선증', '발작', '전립선액루', '수포음', '통증', '호흡 곤란', '흑암시', '리피토', '여윔', '심근 병증', '구역질', '심장통', '인슐린', '가슴앓이', '곤봉지', '철', '기관지염', '인수공통감염병', '반코신', '당뇨병', '식욕부진', '설사', '농루', '라식스', '헤파린', '전립선증', '아스피린', '갑상선종', '실신', '코골이', '다뇨증', '류마티즘', '포사맥스', '이염', '무배란', '히스토플라스마증', '가슴앓이', '글루코파지', '당뇨병', '영양 실조', '간질', '엽산', '안검 경련', '당뇨병', '쇠약', '씬지로이드', '편측발리즘', '어지럼증', '무배란', '현기증', '협심증', '비타민 결핍증', '갑상선 기능 저하증', '하반신부전마비', '알로에 베라', '운동 실조', '암죽뇨', '변비', '리피토', '해쓱', '설사', '폐렴', '토프롤 XR', '모르핀', '발성불능', '쇠약', '속쓰림', '스트렙타제', '운동 실조', '타이레놀', '야뇨증', '두통', '두통', '심장통', '포획', '청각이상', '구토', '객혈', '트림', '제니칼', '인플루엔자', '구취증', '간비장비대', '코골이', '씨프로', '구취증', '아밀로이드증', '철', '발성불능', '관절염', '비타민 K', '치통', '배고픔', '폐렴', '메드롤', '혼수상태', '프레드니솔론', '피부염', '장내가스', '마늘', '불면증', '고혈당증', '니트로글리세린', '세동', '피로', '변비', '콕시듐증', '과소 운동', '세파졸린', '타이레놀', '쿠마딘', '이질', '간 비대', '배고픔', '수막염', '니트로글리세린', '분아균증', '조코', '시스플라틴', '매독', '페니실린', '페니실린', '청색증', '배고픔', '백내장', '반점구진', '무산소혈증', '호흡 곤란', '간 비대', '발성불능', '속쓰림', '복막염', '발작', '콜히친', '질환', '코골이', '블레오마이신', '자연건조 갑상선 추출물', '요도루', '씬지로이드', '치통', '경련', '신장염', '요도루', '철', '해쓱', '수막증', '진균증', '생선 기름', '무산소혈증', '심장통', '안검 경련', '경련', '제니칼', '제니칼', '기생충혈증', '조코', '두드러기', '운동 실조', '백내장', '변비', '홍조', '구역질', '굶주림', '메드롤', '관절통', '협심증', '조코', '굶주림', '혼수상태', '무산소혈증', '기운목', '객혈', '협심증', '피곤함', '치매', '오한', '과소 운동', '다뇨증', '토혈', '알부민', '임질', '견갑골 통증', '아티반', '코골이', '그렁거림', '펩시드', '배뇨통', '요로 결석증', '구취증', '단백뇨', '당뇨병', '중족골통', '관절통', '타미플루', '청색증', '실신', '니트로글리세린', '후각 상실증', '낙타 두창', '여윔', '칸디다증', '청각과민', '아데노신', '타이레놀', '중족골통', '떨림', '코골이', '청색증', '기운목', '구역질', '전립선액루', '역류', '발작', '고혈당증', '여윔', '배고픔', '철', '속쓰림', '스피리바', '코골이', '페니실린', '수막증', '글루카겐', '아테놀올', '고지혈증', '그렁거림', '역류', '창백', '라식스', '쿠마딘', '감각 이상', '시네메트', '알로에 베라', '배란통', '과다 수면', '케톤뇨증', '운동 실조', '타이레놀', '수막증', '웰부트린', '케타민', '조코', '에탄올', '전립선증', '알로에 베라', '비바린', '실바데네', '알코올', '폐렴', '머리-얼굴-목-증후군', '매너리즘', '죽상 경화증', '근병증', '시스플라틴', '무월경', '가슴앓이', '빈혈증', '경련', '아밀로이드증', '허혈', '구역질', '페스트', '리스테리아병', '녹내장', '심근 병증', '수포진', '뱃멀미', '콕시디오이데스진균증', '협심증', '발작', '패혈증', '안진', '뱃멀미', '이통', '구역질', '케톤뇨증', '경련', '기생충혈증', '단백뇨', '저단백혈증', '케톤뇨증', '인슐린', '백내장', '당뇨병', '창백', '목마름', '광선민감화', '다뇨증', '건선', '남성화', '혼수상태', '불면증', '신경병증', '건선', '결핵', '비만', '혈전색전증', '카두라', '백내장', '경화증', '백내장', '빈혈증', '경련', '마늘', '이상지질혈증', '세동', '난청', '당뇨병', '혈색소 침착증', '허혈', '해쓱', '이통', '수포진', '광견병', '페스트', '암죽뇨', '콕시듐증', '해쓱', '동맥류', '장내가스', '골다공증', '뇌염', '혈우병', '관절염', '요도루', '무배란', '알부민', '다뇨증', '코골이', '건선', '치질', '간질', '간질', '건선', '동맥 경화증', '골수 억제', '폐렴', '탈장', '토혈', '관절통', '씬지로이드', '폐렴', '미성숙중성구 증가', '녹내장', '뱃멀미', '관절통', '배뇨통', '과소 운동', '탈장', '과영양', '백내장', '에탄올', '갑상선 기능 항진증', '불임', '관절통', '무산소혈증', '어지럼증', '췌장염', '위장염', '백혈구 감소증', '신경병증', '곤봉지', '편마비', '진균증', '류마티즘', '호흡 곤란', '경화증', '편두통', '부진', '심근 병증', '무산소혈증', '뱃멀미', '이상지질혈증', '지중해 빈혈', '경련', '무배란', '허혈', '기관지염', '리피토', '폐렴', '경련', '기운목', '피부염', '동맥 경화증', '혈색소 침착증', '중족골통', '탈수', '결장염', '당뇨병', '케톤뇨증', '발작', '바나나 백', '갑상선 기능 저하증', '지중해 빈혈', '망상적혈구증식증', '진균증', '진균증', '해쓱', '반점구진', '알로에 베라', '경련', '통증', '혈관염', '코자', '경화증', '천연두', '굶주림', '광선민감화', '간염', '허혈', '탈장', '갑상선종', '운동 실조', '인수공통감염병', '건성수포음', '피곤함', '죽상 경화증', '간염', '나르 칸', '근염', '배뇨통', '청각과민', '세파클러', '에리트로마이신', '갑상선 기능 저하증', '긴장증', '다음다갈증', '그렁거림', '아테놀올', '전립선증', '탈수', '망상적혈구증식증', '요독증', '근병증', '불임', '케톤뇨증', '분아균증', '칸디다증', '심근 병증', '진균증', '협심증', '균혈증', '이상지질혈증', '요독증', '골다공증', '과다구토', '기생충혈증', '신경병증', '뱃멀미', '철', '류마티즘', '브루셀라증', '여윔', '발성불능', '굶주림', '협심증', '요독증', '실금', '혈전색전증', '안구돌출', '요독증', '탈장', '탈수', '물고기 입', '관절염', '불임', '진균증', '백내장', '과영양', '경련', '청색증', '불임', '신경병증', '속쓰림', '해쓱', '과신전', '쇠약', '갑상선 기능 저하증', '찡그림', '안구돌출', '불임', '어지럼증', '이상지질혈증', '편모충증', '발작', '복막염', '관절통', '곤봉지', '플라빅스', '변비', '관절염', '수막염', '어지럼증', '백내장', '초조', '후각 상실증', '침 흘림', '녹내장', '실신', '역류', '액티바제', '관절통', '안검 경련', '광시증', '수막염', '죽상 경화증', '후각 상실증', '협심증', '혈전성향', '비만', '죽상 경화증', '견갑골 통증', '간 비대', '수막염', '과다 수면', '전립선액루', '장내가스', '홍조', '배란통', '혈색소 침착증', '곤봉지', '배란통', '목마름', '좌골 신경통', '기관지염', '코골이', '디곡신', '자낙스', '간염', '호흡 곤란', '곤봉지', '류마티즘', '당뇨병', '편두통', '혈전색전증', '객혈', '운동 실조', '진균증', '좌골 신경통', '충수염', '편두통', '위장염', '간질', '저단백혈증', '허혈', '견갑골 통증', '진균증', '쇠약', '요도루', '신경병증', '매독', '신장염', '수포음', '과신전', '배란통', '경화증', '췌장염', '췌장염', '혈전색전증', '간염', '청각과민', '혈소판 감소증', '충수염', '중족골 통', '미성숙중성구 증가', '레보페드', '류마티즘', '오한', '백혈구 감소증', '씬지로이드', '죽상 경화증', '세동', '편마비', '죽상 경화증', '간헐성 경련', '농루', '수막증', '지중해 빈혈', '알레르기', '고산소증', '비행기멀미', '칸디다증', '조코', '혼수상태', '협심증', '혈관염', '고산소증', '주혈흡충증', '리피토', '코골이', '무산소혈증', '혼수상태', '후각 상실증', '두통', '미성숙중성구 증가', '비타민 결핍증', '다발성 관절염', '심근 병증', '경화증', '배고픔', '갑상선 기능 저하증', '인플루엔자', '고산소증', '무배란', '결핵', '세동', '갑상선 기능 저하증', '매독', '침 흘림', '관절염', '당뇨병', '객혈', '해쓱', '매독', '백내장', '선염', '속쓰림', '곤봉지', '천식', '혈전색전증', '세동', '사구체 경화증', '야뇨증', '견갑골 통증', '혈색소 침착증', '수막염', '근염', '폐렴', '혈전색전증', '빠른말증', '혈소판 감소증', '실신', '간질', '초조', '무배란', '탈수', '수포음', '두통', '관절염', '홍반', '비만', '호흡 곤란', '요독증', '전립선증', '혈색소병증', '혼수상태', '쇠약', '목마름', '이상지질혈증', '백혈구 감소증', '수막염', '쇠약', '세동', '갑상선종', '야뇨증', '갑상선 기능 항진증', '이상지질혈증', '해쓱', '객혈', '유방통', '수포음', '빈혈증', '시네메트', '피부염', '피곤함', '다뇨증', '치통', '이염', '빈혈증', '생선 기름', '야뇨증', '쇠약', '이상지질혈증', '진균증', '치매', '이질', '광견병', '인플루엔자', '광견병', '플라빅스', '편모충증', '건선', '피부근염', '무배란', '무과립구증', '기운목', '혈색소 침착증', '무배란', '관절염', '펩시드', '간질', '차멀미', '세동', '인수공통감염병', '자연유산', '호흡 곤란', '뇌염', '걷기 어려움', '류마티스 결절', '손 부목', '당뇨병', '문맥 고혈압', '울혈성 심부전', '말초 부종', '신장 결석', '허리 통증', '골증식체', '류마티스 관절염', '피임', '예방접종', '근병증', '쇠약', '호흡 곤란', '폐색전증', '골관절염', '십자인대 전위', '통증 유발점', '아침경직', '뇌졸중', '뇌간', '삼킴', '삼킴 곤란', 'T 파', '공동', '전이', '측두 동맥염', '항핵 항체', '레이노 현상', '피부경화증', '폐렴', '회장염', '부신생물의', '류마티스 관절염', '괴사', '설사', '소화 불량', '착란', '환각', '구내염', '폐색전증', '류마티스 관절염', '주사', '포도막염', '혈관염', '패혈증', '두드러기', '위루', '부종', '대장 내시경', '코르티손', '대동맥 협착', '말라리아', '신경병증', '발작', '림프구 증식', '다리 궤양', '보행', '지방층염', '부정맥', '용혈', '미각이상', '성교통', '페니실린', '백혈병', '전립선 암', '반월판', '나트륨', '프로트롬빈', '다발성 골수종', '당뇨병', '케토산증', '기관 협착', '부비동염', '특발성 간경화', '심부전', '직장 폴립', '항인지질항체', '이상언행반복증', '양극성 우울증', '승모판 협착', '급성 호흡곤란 증후군', '척수 압박', '경추 협착', '자가면역성 간염', '뇌동맥류', '폐소세포암', '토혈', '각막궤양', '호흡 곤란', '만성 폐쇄성 폐 질환', '골관절염', '내측 측부 인대 파열', '폐 섬유증', '손목터널증후군', '결절 홍반', '심근 병증', '콕시디오이데스진균증', '협심증', '이상지질혈증', '류마티즘', '안진', '빠른말증', '구역질', '케톤뇨증', '경련', '기생충혈증', '단백뇨', '저단백혈증', '인슐린', '역류', '백내장', '백내장', '당뇨병', '창백', '목마름', '광선민감화', '다뇨증', '건선', '남성화', '건선', '결핵', '췌장염', '치매', '복막염', '빈혈증', '뇌염', '안구돌출', '비만', '혈전색전증', '백내장', '발작', '심장통', '백내장', '빈혈증', '경련', '마늘', '이상지질혈증', '혈우병', '세동', '당뇨병', '해쓱', '수포진', '무력증', '이상지질혈증', '광견병', '페스트', '암죽뇨', '경화증', '무과립구증', '알레르기', '콕시듐증', '동맥류', '골다공증', '죽상 경화증', '세동', '혈소판 감소증', '뇌염', '요도루', '알부민', '다뇨증', '코골이', '치질', '간질', '무력증', '폐렴', '안구돌출', '탈장', '폐렴', '미성숙중성구 증가', '녹내장', '뱃멀미', '관절통', '혈전성향', '가성 안근마비', '배뇨통', '과소 운동', '동맥류', '과영양', '백내장', '에탄올', '갑상선 기능 항진증', '불임', '당뇨병', '쿠마딘', '췌장염', '위장염', '곤봉지', '편마비', '진균증', '류마티즘', '호흡 곤란', '경화증', '편두통', '죽상 경화증', '부진', '심근 병증', '무산소혈증', '뱃멀미', '이상지질혈증', '지중해 빈혈', '경련', '무배란', '허혈', '기관지염', '리피토', '폐렴', '경련', '기운목', '피부염', '동맥 경화증', '혈색소 침착증', '중족골통', '탈수', '결장염', '당뇨병', '케톤뇨증', '바나나 백', '갑상선 기능 저하증', '지중해 빈혈', '진균증', '해쓱', '반점구진', '아세틸 시스테인', '크로몰린', '세프타지딤', '통증', '무과립구증', '배뇨통', '혈관염', '경화증', '굶주림', '간염', '탈장', '갑상선종', '운동 실조', '인수공통감염병', '백일해', '건성수포음', '죽상 경화증', '간염', '나르칸', '혈뇨', '설사', '근염', '배뇨통', '당뇨병', '탈수', '세파클러', '긴장증', '알레르기', '다음다갈증', '경화증', '그렁거림', '전립선증', '눈부심', '탈수', '망상적혈구증식증', '요독증', '근병증', '요독증', '케톤뇨증', '농루', '분아균증', '칸디다증', '심근 병증', '진균증', '협심증', '균혈증', '이상지질혈증', '요독증', '골다공증', '과다구토', '기생충혈증', '신경병증', '속쓰림', '뱃멀미', '철', '담석증', '브루셀라증', '바시트라신', '고인슐린증', '굶주림', '협심증', '요독증', '실금', '혈전색전증', '안구돌출', '요독증', '탈장', '탈수', '농루', '물고기 입', '관절염', '좌골 신경통', '난청', '불임', '진균증', '엉치엉덩관절통증', '제니칼', '백내장', '과영양', '경련', '청색증', '불임', '신경병증', '해쓱', '갑상선 기능 저하증', '찡그림', '이질', '불임', '어지럼증', '이상지질혈증', '편모충증', '갑상선종', '부전 마비', '발작', '복막염', '관절통', '곤봉지', '플라빅스', '질자궁혈종', '변비', '백혈구 감소증', '협심증', '초조', '후각 상실증', '실신', '역류', '액티바제', '여드름', '관절통', '안검 경련', '광시증', '수막염', '죽상 경화증', '후각 상실증', '이통', '과다구토', '혈전성향', '속쓰림', '비만', '죽상 경화증', '견갑골 통증', '간 비대', '과다 수면', '전립선액루', '장내가스', '요로 결석증', '홍조', '배란통', '혈색소 침착증', '곤봉지', '배란통', '목마름', '기관지염', '호흡 곤란', '갑상선 기능 저하증', '당뇨병', '혈전색전증', '췌장염', '곤봉지', '류마티즘', '당뇨병', '편두통', '혈전색전증', '어지럼증', '운동 실조', '진균증', '좌골 신경통', '충수염', '편두통', '플라빅스', '위장염', '간질', '저단백혈증', '폐렴', '견갑골 통증', '진균증', '쇠약', '카보플라틴', '신경병증', '매독', '독시사이클린', '수포음', '과신전', '췌장염', '췌장염', '가슴앓이', '혈전색전증', '간염', '청각과민', '혈소판 감소증', '충수염', '후궁반장', '중족골통', '미성숙중성구 증가', '오한', '백혈구 감소증', '씬지로이드', '죽상 경화증', '세동', '죽상 경화증', '간헐성 경련', '농루', '배뇨통', '지중해 빈혈', '결핵', '알레르기', '칸디다증', '조코', '혼수상태', '협심증', '난청', '혈관염', '임질', '고산소증', '주혈흡충증', '리피토', '코골이', '무산소혈증', '혼수상태', '후각 상실증', '두통', '미성숙중성구 증가', '비타민 결핍증', '진균증', '다발성 관절염', '심근 병증', '경화증', '배고픔', '갑상선 기능 저하증', '고산소증', '무배란', '결핵', '세동', '갑상선 기능 저하증', '매독', '침 흘림', '관절염', '당뇨병', '객혈', '해쓱', '매독', '백내장', '간질', '낙타 두창', '선염', '속쓰림', '농루', '천식', '세동', '사구체 경화증', '야뇨증', '견갑골 통증', '혈색소 침착증', '아만타딘', '폐렴', '혈전색전증', '빠른말증', '간질', '림프절염', '무배란', '탈수', '수포음', '코르티손', '두통', '관절염', '홍반', '비만', '호흡 곤란', '알레르기', '요독증', '전립선증', '게워냄', '위장염', '혼수상태', '쇠약', '목마름', '빈혈증', '협심증', '호흡 곤란', '고인슐린증', '백혈구 감소증', '수막염', '쇠약', '세동', '이상지질혈증', '쌕쌕거림', '가슴앓이', '해쓱', '수포음', '빈혈증', '스멀거림', '시네메트', '피부염', '안검 경련', '피곤함', '다뇨증', '치통', '만니톨', '이염', '간헐성 경련', '운동 실조', '생선 기름', '야뇨증', '진균증', '치매', '페스트', '광견병', '바나나 백', '인플루엔자', '광견병', '편모충증', '건선', '피부근염', '굶주림', '무배란', '낙타 두창', '무과립구증', '기운목', '관절염', '간질', '차멀미', '인수공통감염병', '자연유산']\n"
     ]
    }
   ],
   "source": [
    "print(words)"
   ]
  },
  {
   "cell_type": "code",
   "execution_count": null,
   "metadata": {
    "ExecuteTime": {
     "start_time": "2021-03-16T03:29:03.415Z"
    }
   },
   "outputs": [
    {
     "data": {
      "application/vnd.jupyter.widget-view+json": {
       "model_id": "cfe58d998af14a6a8f31b7bbebc7239b",
       "version_major": 2,
       "version_minor": 0
      },
      "text/plain": [
       "HBox(children=(HTML(value=''), FloatProgress(value=0.0, max=6418590.0), HTML(value='')))"
      ]
     },
     "metadata": {},
     "output_type": "display_data"
    }
   ],
   "source": [
    "from tqdm.notebook import tqdm\n",
    "\n",
    "def extract_word_indicies(corpus, dic): # base on DTM\n",
    "    import numpy as np\n",
    "    vectors=[]\n",
    "    for sent in tqdm(corpus):\n",
    "        vector = [0]*len(dic)\n",
    "        for i, word in enumerate(dic):\n",
    "            for token in sent:\n",
    "                if word == token:\n",
    "                    vector[i]+=1\n",
    "        vectors.append(vector)\n",
    "    return np.array(vectors)\n",
    "\n",
    "# 모든 문서를 이용하여 행렬 생성\n",
    "A = extract_word_indicies(corpus_morphed, words)"
   ]
  },
  {
   "cell_type": "code",
   "execution_count": null,
   "metadata": {},
   "outputs": [],
   "source": [
    "print(A.shape)"
   ]
  },
  {
   "cell_type": "code",
   "execution_count": null,
   "metadata": {},
   "outputs": [],
   "source": [
    "import numpy as np\n",
    "U, s, VT = np.linalg.svd(A, full_matrices=True)"
   ]
  },
  {
   "cell_type": "code",
   "execution_count": null,
   "metadata": {},
   "outputs": [],
   "source": [
    "# t 값을 크게 잡을 수록 노이즈가 생기지만 풍부한 의미를\n",
    "# 작게 잡을 수록 정확한 결과를 제공한다.\n",
    "t = 3"
   ]
  },
  {
   "cell_type": "code",
   "execution_count": null,
   "metadata": {},
   "outputs": [],
   "source": [
    "# 본래 S 행렬에서 상위 t개만 추출\n",
    "S_prime = S[:t, :t]\n",
    "print(\"{} -> {}\".format(np.shape(S),np.shape(S_prime)))\n",
    "print()\n",
    "print(S_prime.round(2))"
   ]
  },
  {
   "cell_type": "code",
   "execution_count": null,
   "metadata": {},
   "outputs": [],
   "source": [
    "# 본래 U 행렬에서 상위 t개만 추출\n",
    "U_prime = U[:, :t]\n",
    "print(\"{} -> {}\".format(np.shape(U),np.shape(U_prime)))\n",
    "print()\n",
    "print(U_prime.round(2)) "
   ]
  },
  {
   "cell_type": "code",
   "execution_count": null,
   "metadata": {},
   "outputs": [],
   "source": [
    "# 본래 VT 행렬에서 상위 t개만 추출\n",
    "VT_prime = VT[:t,:]\n",
    "print(\"{} -> {}\".format(np.shape(VT),np.shape(VT_prime)))\n",
    "print()\n",
    "print(VT_prime.round(2))"
   ]
  },
  {
   "cell_type": "code",
   "execution_count": null,
   "metadata": {},
   "outputs": [],
   "source": [
    "# 단어 VT와 정보량 벡터인 S를 연산할 경우 각 단어가 상위 t개의 잠재 의미 분류에서 어떠한 위치를 가지는지 알 수 있다.\n",
    "SVT = np.dot(S_prime, VT_prime)\n",
    "print(np.shape(SVT))"
   ]
  },
  {
   "cell_type": "code",
   "execution_count": null,
   "metadata": {},
   "outputs": [],
   "source": []
  },
  {
   "cell_type": "code",
   "execution_count": null,
   "metadata": {},
   "outputs": [],
   "source": []
  },
  {
   "cell_type": "code",
   "execution_count": null,
   "metadata": {},
   "outputs": [],
   "source": []
  }
 ],
 "metadata": {
  "kernelspec": {
   "display_name": "Python 3",
   "language": "python",
   "name": "python3"
  },
  "language_info": {
   "codemirror_mode": {
    "name": "ipython",
    "version": 3
   },
   "file_extension": ".py",
   "mimetype": "text/x-python",
   "name": "python",
   "nbconvert_exporter": "python",
   "pygments_lexer": "ipython3",
   "version": "3.8.5"
  }
 },
 "nbformat": 4,
 "nbformat_minor": 4
}
